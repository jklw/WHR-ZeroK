{
 "cells": [
  {
   "cell_type": "code",
   "execution_count": 1,
   "metadata": {},
   "outputs": [],
   "source": [
    "%load_ext autoreload\n",
    "%autoreload 2\n",
    "from whr import *\n",
    "\n",
    "%load_ext pyinstrument\n",
    "\n",
    "%config InlineBackend.figure_format = 'retina'\n",
    "# Initialize random number generator\n",
    "RANDOM_SEED = 8927\n",
    "rng = np.random.default_rng(RANDOM_SEED)\n",
    "az.style.use(\"arviz-darkgrid\")"
   ]
  },
  {
   "cell_type": "code",
   "execution_count": 2,
   "metadata": {},
   "outputs": [
    {
     "name": "stdout",
     "output_type": "stream",
     "text": [
      "using cached data from cache/games_2826287116270d9688585c8305a40ff5.pickle\n",
      "using cached data from cache/playerNames_d41d8cd98f00b204e9800998ecf8427e.pickle\n",
      "using cached data from cache/playerDays_c759d8f251d4174b6fe1d8159b20fcc4.pickle\n"
     ]
    }
   ],
   "source": [
    "da = PreprocessedData.load()\n",
    "onlyEvenGames = da.restrictGames(da.games.winnerCount == da.games.loserCount)"
   ]
  },
  {
   "cell_type": "code",
   "execution_count": 3,
   "metadata": {},
   "outputs": [],
   "source": [
    "evenModel = createCumsumMatrixModel(onlyEvenGames, separateVirtualGames=True, useExtraPlayerAdjustment=False)\n",
    "idata = az.InferenceData.from_netcdf('even-games_cumsum-matrix-model-1-year.netcdf')"
   ]
  },
  {
   "cell_type": "code",
   "execution_count": 4,
   "metadata": {},
   "outputs": [
    {
     "data": {
      "text/plain": [
       "player  day       \n",
       "1403    2022-09-04        2\n",
       "3060    2022-06-26        8\n",
       "        2022-07-03        9\n",
       "3061    2022-06-26       27\n",
       "        2022-07-03       28\n",
       "                      ...  \n",
       "580786  2023-04-29    66191\n",
       "        2023-04-30    66192\n",
       "580815  2023-04-30    66194\n",
       "580831  2023-04-30    66196\n",
       "580835  2023-04-30    66197\n",
       "Length: 34718, dtype: int64"
      ]
     },
     "execution_count": 4,
     "metadata": {},
     "output_type": "execute_result"
    }
   ],
   "source": [
    "unevenPlayerDays = evenModel.ratingIxLookup[\\\n",
    "    da.gamePlayers[[]].join(\\\n",
    "        da.games[lambda g: g.winnerCount != g.loserCount][['day']], \\\n",
    "        on='battle_id',how='inner'\\\n",
    "        ).droplevel('battle_id').set_index('day',append=True).index.drop_duplicates()\\\n",
    "    ].sort_index()\n",
    "unevenPlayerDays"
   ]
  },
  {
   "cell_type": "code",
   "execution_count": null,
   "metadata": {},
   "outputs": [],
   "source": []
  },
  {
   "cell_type": "code",
   "execution_count": 5,
   "metadata": {},
   "outputs": [
    {
     "data": {
      "text/plain": [
       "(4000, 34718)"
      ]
     },
     "execution_count": 5,
     "metadata": {},
     "output_type": "execute_result"
    }
   ],
   "source": [
    "post = idata.posterior\n",
    "incr : xa.DataArray = post['ratings']\n",
    "X = incr.isel(playerDay=unevenPlayerDays.values).stack(sample=('chain','draw')).transpose().to_numpy().astype(np.float64)\n",
    "X.shape"
   ]
  },
  {
   "cell_type": "code",
   "execution_count": 6,
   "metadata": {},
   "outputs": [],
   "source": [
    "# corr = np.cov(X, rowvar=False) # segfaults, probably because the result would be singular"
   ]
  },
  {
   "cell_type": "code",
   "execution_count": 7,
   "metadata": {},
   "outputs": [],
   "source": [
    "means = X.mean(axis=0)\n",
    "Xc = X - means"
   ]
  },
  {
   "cell_type": "code",
   "execution_count": 8,
   "metadata": {},
   "outputs": [
    {
     "data": {
      "text/plain": [
       "((4000, 4000), (4000,), (4000, 34718))"
      ]
     },
     "execution_count": 8,
     "metadata": {},
     "output_type": "execute_result"
    }
   ],
   "source": [
    "# Cov = Xc.T @ (Xc  / (X.shape[0]-1))\n",
    "import scipy.linalg\n",
    "U, s, Vh = scipy.linalg.svd(Xc, full_matrices=False)\n",
    "\n",
    "U.shape, s.shape, Vh.shape\n",
    "\n",
    "# Cov = Xh X = V s² Vh"
   ]
  },
  {
   "cell_type": "code",
   "execution_count": 9,
   "metadata": {},
   "outputs": [
    {
     "data": {
      "text/plain": [
       "(-0.06736020799607169, -0.06736020799607155)"
      ]
     },
     "execution_count": 9,
     "metadata": {},
     "output_type": "execute_result"
    }
   ],
   "source": [
    "(Xc[:,0] @ Xc[:,2])/3999, ((s * Vh[:,0]) @ (s * Vh[:,2]))/3999\n"
   ]
  },
  {
   "cell_type": "code",
   "execution_count": null,
   "metadata": {},
   "outputs": [],
   "source": [
    "plt.plot(s.cumsum()/s.sum())"
   ]
  },
  {
   "cell_type": "code",
   "execution_count": 16,
   "metadata": {},
   "outputs": [
    {
     "data": {
      "text/html": [
       "\n",
       "        <iframe\n",
       "            width=\"100%\"\n",
       "            height=\"475\"\n",
       "            src=\"http://noname:40000/dtale/iframe/4\"\n",
       "            frameborder=\"0\"\n",
       "            allowfullscreen\n",
       "            \n",
       "        ></iframe>\n",
       "        "
      ],
      "text/plain": [
       "<IPython.lib.display.IFrame at 0x7f4de8a15190>"
      ]
     },
     "metadata": {},
     "output_type": "display_data"
    },
    {
     "data": {
      "text/plain": []
     },
     "execution_count": 16,
     "metadata": {},
     "output_type": "execute_result"
    },
    {
     "name": "stderr",
     "output_type": "stream",
     "text": [
      "2023-06-10 06:07:15,085 - INFO     - Executing shutdown due to inactivity...\n",
      "2023-06-10 06:07:15,094 - INFO     - Executing shutdown...\n",
      "2023-06-10 06:07:15,094 - ERROR    - Exception on /shutdown [GET]\n",
      "Traceback (most recent call last):\n",
      "  File \"/home/daniel/dev/WHR/env/lib/python3.9/site-packages/flask/app.py\", line 2529, in wsgi_app\n",
      "    response = self.full_dispatch_request()\n",
      "  File \"/home/daniel/dev/WHR/env/lib/python3.9/site-packages/flask/app.py\", line 1825, in full_dispatch_request\n",
      "    rv = self.handle_user_exception(e)\n",
      "  File \"/home/daniel/dev/WHR/env/lib/python3.9/site-packages/flask/app.py\", line 1823, in full_dispatch_request\n",
      "    rv = self.dispatch_request()\n",
      "  File \"/home/daniel/dev/WHR/env/lib/python3.9/site-packages/flask/app.py\", line 1799, in dispatch_request\n",
      "    return self.ensure_sync(self.view_functions[rule.endpoint])(**view_args)\n",
      "  File \"/home/daniel/dev/WHR/env/lib/python3.9/site-packages/dtale/app.py\", line 438, in shutdown\n",
      "    shutdown_server()\n",
      "  File \"/home/daniel/dev/WHR/env/lib/python3.9/site-packages/dtale/app.py\", line 424, in shutdown_server\n",
      "    raise RuntimeError(\"Not running with the Werkzeug Server\")\n",
      "RuntimeError: Not running with the Werkzeug Server\n"
     ]
    }
   ],
   "source": [
    "import dtale\n",
    "namedIndex = unevenPlayerDays.to_frame('ix').join(da.players, on='player').set_index('name',append=True).swaplevel(2,1)\n",
    "\n",
    "# pc0 = pd.Series(Vh[0], index=namedIndex.index).sort_values()\n",
    "pcs = pd.DataFrame(Vh[:30].T, index=namedIndex.index)\n",
    "\n",
    "dtale.show(10000*pcs)\n"
   ]
  },
  {
   "cell_type": "code",
   "execution_count": null,
   "metadata": {},
   "outputs": [],
   "source": []
  },
  {
   "cell_type": "code",
   "execution_count": null,
   "metadata": {},
   "outputs": [],
   "source": [
    "\n",
    "Xs = Xc / Xc.std(axis=0, ddof=1)\n",
    "\n",
    "np.max(np.abs(Xs[:,1] - (X[:,1] - X[:,1].mean())/X[:,1].std(ddof=1)))"
   ]
  },
  {
   "cell_type": "code",
   "execution_count": null,
   "metadata": {},
   "outputs": [],
   "source": [
    "import sklearn.decomposition as decomp\n",
    "\n",
    "fa = decomp.FactorAnalysis(n_components=100, rotation='varimax').fit(X)"
   ]
  },
  {
   "cell_type": "code",
   "execution_count": null,
   "metadata": {},
   "outputs": [],
   "source": [
    "# dtale.show(pd.DataFrame(fa.components_.T, index=evenModel.model.coords['playerDay']))\n",
    "fa.get_params()"
   ]
  },
  {
   "cell_type": "code",
   "execution_count": null,
   "metadata": {},
   "outputs": [],
   "source": [
    "U, s, Vh = scipy.linalg.svd(Xs, full_matrices=False)"
   ]
  },
  {
   "cell_type": "code",
   "execution_count": null,
   "metadata": {},
   "outputs": [],
   "source": []
  },
  {
   "cell_type": "code",
   "execution_count": null,
   "metadata": {},
   "outputs": [],
   "source": [
    "s2 = np.square(s)\n",
    "\n",
    "assert np.allclose(Xs[:,0] @ Xs[:,1], (s2 * Vh[:,0]) @ (Vh[:,1]))\n",
    "\n",
    "s2norm = s2/(X.shape[0]-1)"
   ]
  },
  {
   "cell_type": "code",
   "execution_count": null,
   "metadata": {},
   "outputs": [],
   "source": [
    "# a.T Xs.T Xs b = a.T Vh.T s s Vh b = (Vh a).T s s (Vh b)\n",
    "pm.MvNormal()\n",
    "\n",
    "# xh (Xh X)^-1 x\n",
    "# = xh V S^-2 Vh x\n",
    "# = xh V S^-2 Vh x\n",
    "# = xh (V S^-1) (S^-1 Vh) x\n",
    "# = xh (V S^-1) (V S^-1)h x\n",
    "\n",
    "# X = U S Vh\n",
    "# Xh X = V S² Vh = V Uh X Xh U Vh\n",
    "# X Xh = U S² Uh\n",
    "\n",
    "# (Xh X)/3999 - 1 = V (S²/3999 - 1) Vh\n",
    "\n",
    "fig, ax = plt.subplots()\n",
    "# ax.set_yscale('log')\n",
    "# ax.plot(s2norm-1)\n",
    "ax.plot((s2norm - 1).cumsum())\n",
    "# x=np.arange(len(s2))\n",
    "# ax.plot(x,1-1/(x/6000+1)**10)\n",
    "pc0 = pd.Series(Vh[0], index=evenModel.model.coords['playerDay']).sort_values()\n",
    "# pd.Series(Vh[3500], index=evenModel.model.coords['playerDay']).sort_values().plot()\n",
    "\n",
    "def approxCorr(i, j, a):\n",
    "    return ((s2[:a] * Vh[:a,i]) @ (Vh[:a,j]))/3999\n",
    "\n",
    "approxs=np.linspace(1,4000,100,dtype=int)\n",
    "# ax.plot(approxs, [[approxCorr(i,i,a) for i in np.linspace(0, X.shape[1]-1, 20, dtype='int')] for a in approxs])\n",
    "\n",
    "Xs[:,0] @ Xs[:,0]"
   ]
  },
  {
   "cell_type": "code",
   "execution_count": null,
   "metadata": {},
   "outputs": [],
   "source": [
    "Y = np.random.normal(size=(4000,5))\n",
    "Ys = (Y - Y.mean(axis=0))/Y.std(axis=0,ddof=1)"
   ]
  },
  {
   "cell_type": "code",
   "execution_count": null,
   "metadata": {},
   "outputs": [],
   "source": [
    "(Ys.T @ Ys)/3999 - np.eye(5)"
   ]
  },
  {
   "cell_type": "code",
   "execution_count": null,
   "metadata": {},
   "outputs": [],
   "source": [
    "UY, SY, VhY = scipy.linalg.svd(Ys, full_matrices=False)"
   ]
  },
  {
   "cell_type": "code",
   "execution_count": null,
   "metadata": {},
   "outputs": [],
   "source": [
    "# VhY.T @ np.diag(SY**2/3999 - 1) @ VhY\n",
    "np.diag(SY**2/3999 - 1)"
   ]
  }
 ],
 "metadata": {
  "kernelspec": {
   "display_name": "Python 3.9.2 ('env': venv)",
   "language": "python",
   "name": "python3"
  },
  "language_info": {
   "codemirror_mode": {
    "name": "ipython",
    "version": 3
   },
   "file_extension": ".py",
   "mimetype": "text/x-python",
   "name": "python",
   "nbconvert_exporter": "python",
   "pygments_lexer": "ipython3",
   "version": "3.9.2"
  },
  "orig_nbformat": 4,
  "vscode": {
   "interpreter": {
    "hash": "de99da730c82b3eba29058665eb1cbb2dcbc3a522e835c958b9ffc74046f614e"
   }
  }
 },
 "nbformat": 4,
 "nbformat_minor": 2
}
