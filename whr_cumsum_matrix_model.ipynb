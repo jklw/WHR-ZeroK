{
 "cells": [
  {
   "cell_type": "code",
   "execution_count": 1,
   "metadata": {},
   "outputs": [],
   "source": [
    "import arviz as az\n",
    "import pandas as pd\n",
    "from pandas import Series, DataFrame\n",
    "import matplotlib.pyplot as plt\n",
    "import numpy as np\n",
    "import scipy.sparse as scs\n",
    "import itertools as iter\n",
    "from IPython.display import display\n",
    "from pytensor.printing import pydotprint\n",
    "import pymc as pm\n",
    "import pymc.math as pmm\n",
    "import pytensor.tensor as pt\n",
    "import pytensor as pt0\n",
    "import pytensor.sparse as pts\n",
    "import pytensor.d3viz as d3v\n",
    "import math\n",
    "import dtale\n",
    "from whr.imports import *\n",
    "\n",
    "\n",
    "%config InlineBackend.figure_format = 'retina'\n",
    "# Initialize random number generator\n",
    "RANDOM_SEED = 8927\n",
    "rng = np.random.default_rng(RANDOM_SEED)\n",
    "az.style.use(\"arviz-darkgrid\")\n",
    "\n",
    "\n",
    "%load_ext autoreload\n",
    "%autoreload 2\n",
    "import whr\n",
    "from whr import *\n",
    "\n",
    "%load_ext pyinstrument"
   ]
  },
  {
   "cell_type": "code",
   "execution_count": 2,
   "metadata": {},
   "outputs": [
    {
     "name": "stdout",
     "output_type": "stream",
     "text": [
      "Elo = natural rating * 173.7 + 1500\n"
     ]
    }
   ],
   "source": [
    "print('Elo = natural rating * %.1f + 1500' % whr.eloPerNaturalRating)"
   ]
  },
  {
   "cell_type": "code",
   "execution_count": 3,
   "metadata": {},
   "outputs": [],
   "source": [
    "# g, gp = whr.readZklaBattles(whr.DEFAULT_MONTHS, doPreFilter=False)\n",
    "# g[['is_autohost_teams', 'preFilter', 'is_teams', ]]"
   ]
  },
  {
   "cell_type": "code",
   "execution_count": 4,
   "metadata": {},
   "outputs": [
    {
     "name": "stdout",
     "output_type": "stream",
     "text": [
      "25813 games; 354811 gamePlayers; 87236 playerDays\n"
     ]
    }
   ],
   "source": [
    "da = whr.PreprocessedData.load()\n",
    "\n",
    "# print('-1 in first row for each player in varFrom* columns is expected.')\n",
    "# da.playerDays\n",
    "\n",
    "print(f'{len(da.games)} games; {len(da.gamePlayers)} gamePlayers; {len(da.playerDays)} playerDays')"
   ]
  },
  {
   "cell_type": "code",
   "execution_count": 5,
   "metadata": {},
   "outputs": [
    {
     "data": {
      "text/plain": [
       "year\n",
       "2019     1057\n",
       "2020     3324\n",
       "2021     5670\n",
       "2022    12067\n",
       "2023     3695\n",
       "dtype: int64"
      ]
     },
     "execution_count": 5,
     "metadata": {},
     "output_type": "execute_result"
    }
   ],
   "source": [
    "# da.games[da.games.day < np.datetime64('2021-01-01')]\n",
    "da.games.assign(year = da.games.day.map(lambda d: d.year))[['year']].groupby('year').size()"
   ]
  },
  {
   "cell_type": "code",
   "execution_count": 6,
   "metadata": {},
   "outputs": [],
   "source": [
    "whr.setup_pytensor()"
   ]
  },
  {
   "cell_type": "code",
   "execution_count": 7,
   "metadata": {},
   "outputs": [],
   "source": [
    "# onlyEvenGames = da.restrictGames(da.games.winnerCount == da.games.loserCount)\n",
    "# evenModel = whr.createCumsumMatrixModel(onlyEvenGames, separateVirtualGames=True, useExtraPlayerAdjustment=False, useOutcomesPotential=False)"
   ]
  },
  {
   "cell_type": "code",
   "execution_count": 8,
   "metadata": {},
   "outputs": [],
   "source": [
    "n=8000"
   ]
  },
  {
   "cell_type": "code",
   "execution_count": 9,
   "metadata": {},
   "outputs": [
    {
     "name": "stderr",
     "output_type": "stream",
     "text": [
      "Auto-assigning NUTS sampler...\n",
      "Initializing NUTS using jitter+adapt_diag...\n",
      "Multiprocess sampling (4 chains in 4 jobs)\n",
      "NUTS: [increments]\n"
     ]
    },
    {
     "data": {
      "text/html": [
       "\n",
       "<style>\n",
       "    /* Turns off some styling */\n",
       "    progress {\n",
       "        /* gets rid of default border in Firefox and Opera. */\n",
       "        border: none;\n",
       "        /* Needs to be in here for Safari polyfill so background images work as expected. */\n",
       "        background-size: auto;\n",
       "    }\n",
       "    progress:not([value]), progress:not([value])::-webkit-progress-bar {\n",
       "        background: repeating-linear-gradient(45deg, #7e7e7e, #7e7e7e 10px, #5c5c5c 10px, #5c5c5c 20px);\n",
       "    }\n",
       "    .progress-bar-interrupted, .progress-bar-interrupted::-webkit-progress-bar {\n",
       "        background: #F44336;\n",
       "    }\n",
       "</style>\n"
      ],
      "text/plain": [
       "<IPython.core.display.HTML object>"
      ]
     },
     "metadata": {},
     "output_type": "display_data"
    },
    {
     "data": {
      "text/html": [
       "\n",
       "    <div>\n",
       "      <progress value='12000' class='' max='12000' style='width:300px; height:20px; vertical-align: middle;'></progress>\n",
       "      100.00% [12000/12000 6:05:49&lt;00:00 Sampling 4 chains, 0 divergences]\n",
       "    </div>\n",
       "    "
      ],
      "text/plain": [
       "<IPython.core.display.HTML object>"
      ]
     },
     "metadata": {},
     "output_type": "display_data"
    },
    {
     "name": "stderr",
     "output_type": "stream",
     "text": [
      "Sampling 4 chains for 1_000 tune and 2_000 draw iterations (4_000 + 8_000 draws total) took 21949 seconds.\n"
     ]
    },
    {
     "name": "stdout",
     "output_type": "stream",
     "text": [
      "Sampling completed; extending perf stats\n"
     ]
    },
    {
     "data": {
      "text/html": [
       "\n",
       "<style>\n",
       "    /* Turns off some styling */\n",
       "    progress {\n",
       "        /* gets rid of default border in Firefox and Opera. */\n",
       "        border: none;\n",
       "        /* Needs to be in here for Safari polyfill so background images work as expected. */\n",
       "        background-size: auto;\n",
       "    }\n",
       "    progress:not([value]), progress:not([value])::-webkit-progress-bar {\n",
       "        background: repeating-linear-gradient(45deg, #7e7e7e, #7e7e7e 10px, #5c5c5c 10px, #5c5c5c 20px);\n",
       "    }\n",
       "    .progress-bar-interrupted, .progress-bar-interrupted::-webkit-progress-bar {\n",
       "        background: #F44336;\n",
       "    }\n",
       "</style>\n"
      ],
      "text/plain": [
       "<IPython.core.display.HTML object>"
      ]
     },
     "metadata": {},
     "output_type": "display_data"
    },
    {
     "data": {
      "text/html": [
       "\n",
       "    <div>\n",
       "      <progress value='641' class='' max='641' style='width:300px; height:20px; vertical-align: middle;'></progress>\n",
       "      100.00% [641/641 00:38&lt;00:00 logp = 14,579, ||grad|| = 2.2817]\n",
       "    </div>\n",
       "    "
      ],
      "text/plain": [
       "<IPython.core.display.HTML object>"
      ]
     },
     "metadata": {},
     "output_type": "display_data"
    },
    {
     "name": "stdout",
     "output_type": "stream",
     "text": [
      "\n"
     ]
    }
   ],
   "source": [
    "unadjModel = whr.createUnadjustedCumsumMatrixModel(da)\n",
    "if True:\n",
    "    unadjModel.sample(draws=n//4)\n",
    "    unadjModel.saveIData()\n",
    "    unadjModel.calcAndSaveMAP()\n",
    "else:\n",
    "    unadjModel.loadIData()\n",
    "    unadjModel.loadMAP()"
   ]
  },
  {
   "cell_type": "code",
   "execution_count": 10,
   "metadata": {},
   "outputs": [
    {
     "name": "stderr",
     "output_type": "stream",
     "text": [
      "Auto-assigning NUTS sampler...\n",
      "Initializing NUTS using jitter+adapt_diag...\n",
      "Multiprocess sampling (4 chains in 4 jobs)\n",
      "NUTS: [increments, epadc]\n"
     ]
    },
    {
     "data": {
      "text/html": [
       "\n",
       "<style>\n",
       "    /* Turns off some styling */\n",
       "    progress {\n",
       "        /* gets rid of default border in Firefox and Opera. */\n",
       "        border: none;\n",
       "        /* Needs to be in here for Safari polyfill so background images work as expected. */\n",
       "        background-size: auto;\n",
       "    }\n",
       "    progress:not([value]), progress:not([value])::-webkit-progress-bar {\n",
       "        background: repeating-linear-gradient(45deg, #7e7e7e, #7e7e7e 10px, #5c5c5c 10px, #5c5c5c 20px);\n",
       "    }\n",
       "    .progress-bar-interrupted, .progress-bar-interrupted::-webkit-progress-bar {\n",
       "        background: #F44336;\n",
       "    }\n",
       "</style>\n"
      ],
      "text/plain": [
       "<IPython.core.display.HTML object>"
      ]
     },
     "metadata": {},
     "output_type": "display_data"
    },
    {
     "data": {
      "text/html": [
       "\n",
       "    <div>\n",
       "      <progress value='12000' class='' max='12000' style='width:300px; height:20px; vertical-align: middle;'></progress>\n",
       "      100.00% [12000/12000 6:08:45&lt;00:00 Sampling 4 chains, 0 divergences]\n",
       "    </div>\n",
       "    "
      ],
      "text/plain": [
       "<IPython.core.display.HTML object>"
      ]
     },
     "metadata": {},
     "output_type": "display_data"
    },
    {
     "name": "stderr",
     "output_type": "stream",
     "text": [
      "Sampling 4 chains for 1_000 tune and 2_000 draw iterations (4_000 + 8_000 draws total) took 22125 seconds.\n"
     ]
    },
    {
     "name": "stdout",
     "output_type": "stream",
     "text": [
      "Sampling completed; extending perf stats\n"
     ]
    }
   ],
   "source": [
    "simpleAdjModel = whr.createSimpleAdjustedModel(da)\n",
    "if True:\n",
    "    simpleAdjModel.sample(draws=n//4)\n",
    "    simpleAdjModel.saveIData()\n",
    "else:\n",
    "    simpleAdjModel.loadIData()"
   ]
  },
  {
   "cell_type": "code",
   "execution_count": 11,
   "metadata": {},
   "outputs": [
    {
     "name": "stderr",
     "output_type": "stream",
     "text": [
      "Auto-assigning NUTS sampler...\n",
      "Initializing NUTS using jitter+adapt_diag...\n",
      "Multiprocess sampling (4 chains in 4 jobs)\n",
      "NUTS: [increments, epadc]\n"
     ]
    },
    {
     "data": {
      "text/html": [
       "\n",
       "<style>\n",
       "    /* Turns off some styling */\n",
       "    progress {\n",
       "        /* gets rid of default border in Firefox and Opera. */\n",
       "        border: none;\n",
       "        /* Needs to be in here for Safari polyfill so background images work as expected. */\n",
       "        background-size: auto;\n",
       "    }\n",
       "    progress:not([value]), progress:not([value])::-webkit-progress-bar {\n",
       "        background: repeating-linear-gradient(45deg, #7e7e7e, #7e7e7e 10px, #5c5c5c 10px, #5c5c5c 20px);\n",
       "    }\n",
       "    .progress-bar-interrupted, .progress-bar-interrupted::-webkit-progress-bar {\n",
       "        background: #F44336;\n",
       "    }\n",
       "</style>\n"
      ],
      "text/plain": [
       "<IPython.core.display.HTML object>"
      ]
     },
     "metadata": {},
     "output_type": "display_data"
    },
    {
     "data": {
      "text/html": [
       "\n",
       "    <div>\n",
       "      <progress value='1666' class='' max='12000' style='width:300px; height:20px; vertical-align: middle;'></progress>\n",
       "      13.88% [1666/12000 1:07:17&lt;6:57:25 Sampling 4 chains, 0 divergences]\n",
       "    </div>\n",
       "    "
      ],
      "text/plain": [
       "<IPython.core.display.HTML object>"
      ]
     },
     "metadata": {},
     "output_type": "display_data"
    }
   ],
   "source": [
    "bpstAdjModel = whr.createBPSTAdjustedModel(da)\n",
    "if True:\n",
    "    bpstAdjModel.sample(draws=n//4)\n",
    "    bpstAdjModel.saveIData()\n",
    "else:\n",
    "    bpstAdjModel.loadIData()"
   ]
  },
  {
   "cell_type": "code",
   "execution_count": 23,
   "metadata": {},
   "outputs": [],
   "source": [
    "compareModels = dict(unadjModel=unadjModel, simpleAdjModel=simpleAdjModel, bpstAdjModel=bpstAdjModel)\n",
    "for m in compareModels.values():\n",
    "    if not 'log_likelihood' in m.idata:\n",
    "        with m.model:\n",
    "            m.compute_log_likelihood()"
   ]
  },
  {
   "cell_type": "code",
   "execution_count": null,
   "metadata": {},
   "outputs": [],
   "source": [
    "loo = az.loo(unadjModel.idata, pointwise=True, var_name='Game outcomes')"
   ]
  },
  {
   "cell_type": "code",
   "execution_count": 87,
   "metadata": {},
   "outputs": [
    {
     "data": {
      "text/plain": [
       "Computed from 8000 posterior samples and 22150 observations log-likelihood matrix.\n",
       "\n",
       "         Estimate       SE\n",
       "elpd_loo -14739.32    46.65\n",
       "p_loo     2115.12        -\n",
       "\n",
       "There has been a warning during the calculation. Please check the results.\n",
       "------\n",
       "\n",
       "Pareto k diagnostic values:\n",
       "                         Count   Pct.\n",
       "(-Inf, 0.5]   (good)     21947   99.1%\n",
       " (0.5, 0.7]   (ok)         183    0.8%\n",
       "   (0.7, 1]   (bad)         20    0.1%\n",
       "   (1, Inf)   (very bad)     0    0.0%"
      ]
     },
     "execution_count": 87,
     "metadata": {},
     "output_type": "execute_result"
    }
   ],
   "source": [
    "loo"
   ]
  },
  {
   "cell_type": "code",
   "execution_count": 88,
   "metadata": {},
   "outputs": [
    {
     "data": {
      "text/html": [
       "<div>\n",
       "<style scoped>\n",
       "    .dataframe tbody tr th:only-of-type {\n",
       "        vertical-align: middle;\n",
       "    }\n",
       "\n",
       "    .dataframe tbody tr th {\n",
       "        vertical-align: top;\n",
       "    }\n",
       "\n",
       "    .dataframe thead th {\n",
       "        text-align: right;\n",
       "    }\n",
       "</style>\n",
       "<table border=\"1\" class=\"dataframe\">\n",
       "  <thead>\n",
       "    <tr style=\"text-align: right;\">\n",
       "      <th></th>\n",
       "      <th>w</th>\n",
       "      <th>l</th>\n",
       "      <th>loo_i</th>\n",
       "      <th>pareto_k</th>\n",
       "      <th>p</th>\n",
       "    </tr>\n",
       "    <tr>\n",
       "      <th>battle_id</th>\n",
       "      <th></th>\n",
       "      <th></th>\n",
       "      <th></th>\n",
       "      <th></th>\n",
       "      <th></th>\n",
       "    </tr>\n",
       "  </thead>\n",
       "  <tbody>\n",
       "    <tr>\n",
       "      <th>943959</th>\n",
       "      <td>[[Qaa, 3]]</td>\n",
       "      <td>[[RealZener1, 1]]</td>\n",
       "      <td>-1.500005</td>\n",
       "      <td>0.793394</td>\n",
       "      <td>0.223129</td>\n",
       "    </tr>\n",
       "    <tr>\n",
       "      <th>952525</th>\n",
       "      <td>[[SentinelComanche, 144]]</td>\n",
       "      <td>[[sMaxMd, 1]]</td>\n",
       "      <td>-0.126953</td>\n",
       "      <td>0.780867</td>\n",
       "      <td>0.880775</td>\n",
       "    </tr>\n",
       "    <tr>\n",
       "      <th>964378</th>\n",
       "      <td>[[katastrophe, 286]]</td>\n",
       "      <td>[[venom69, 6]]</td>\n",
       "      <td>-1.064082</td>\n",
       "      <td>0.731339</td>\n",
       "      <td>0.345044</td>\n",
       "    </tr>\n",
       "    <tr>\n",
       "      <th>967752</th>\n",
       "      <td>[[flipmedays, 4]]</td>\n",
       "      <td>[[MatthewGB, 42]]</td>\n",
       "      <td>-2.110805</td>\n",
       "      <td>0.777886</td>\n",
       "      <td>0.121140</td>\n",
       "    </tr>\n",
       "    <tr>\n",
       "      <th>1197373</th>\n",
       "      <td>[[dings, 6]]</td>\n",
       "      <td>[[MrSiara, 55]]</td>\n",
       "      <td>-1.084915</td>\n",
       "      <td>0.890028</td>\n",
       "      <td>0.337930</td>\n",
       "    </tr>\n",
       "    <tr>\n",
       "      <th>1359271</th>\n",
       "      <td>[[Notung, 252]]</td>\n",
       "      <td>[[WitherInc, 1]]</td>\n",
       "      <td>-0.017332</td>\n",
       "      <td>0.748502</td>\n",
       "      <td>0.982817</td>\n",
       "    </tr>\n",
       "    <tr>\n",
       "      <th>1368683</th>\n",
       "      <td>[[Nor1kz, 1]]</td>\n",
       "      <td>[[kslv, 1]]</td>\n",
       "      <td>-0.655623</td>\n",
       "      <td>0.705639</td>\n",
       "      <td>0.519118</td>\n",
       "    </tr>\n",
       "    <tr>\n",
       "      <th>1384762</th>\n",
       "      <td>[[hungdonkey, 19]]</td>\n",
       "      <td>[[Zeich, 16]]</td>\n",
       "      <td>-1.470663</td>\n",
       "      <td>0.819023</td>\n",
       "      <td>0.229773</td>\n",
       "    </tr>\n",
       "    <tr>\n",
       "      <th>1397812</th>\n",
       "      <td>[[juanisafinehumanbeing, 22]]</td>\n",
       "      <td>[[TopGoodGame, 3]]</td>\n",
       "      <td>-0.342300</td>\n",
       "      <td>0.733323</td>\n",
       "      <td>0.710135</td>\n",
       "    </tr>\n",
       "    <tr>\n",
       "      <th>1398498</th>\n",
       "      <td>[[[Kf3in]C21, 32]]</td>\n",
       "      <td>[[[Unnamed player with ID 522105], 22]]</td>\n",
       "      <td>-1.195342</td>\n",
       "      <td>0.825581</td>\n",
       "      <td>0.302600</td>\n",
       "    </tr>\n",
       "    <tr>\n",
       "      <th>1401778</th>\n",
       "      <td>[[Mudosaka, 184]]</td>\n",
       "      <td>[[Mr_Ephir, 1]]</td>\n",
       "      <td>-0.055974</td>\n",
       "      <td>0.704620</td>\n",
       "      <td>0.945564</td>\n",
       "    </tr>\n",
       "    <tr>\n",
       "      <th>1403587</th>\n",
       "      <td>[[123vtemp, 87]]</td>\n",
       "      <td>[[wengjia75, 2]]</td>\n",
       "      <td>-0.313779</td>\n",
       "      <td>0.815563</td>\n",
       "      <td>0.730681</td>\n",
       "    </tr>\n",
       "    <tr>\n",
       "      <th>1438619</th>\n",
       "      <td>[[PRO_Dregs, 49]]</td>\n",
       "      <td>[[xXDatBoi69Xx, 4]]</td>\n",
       "      <td>-0.001373</td>\n",
       "      <td>0.847728</td>\n",
       "      <td>0.998628</td>\n",
       "    </tr>\n",
       "    <tr>\n",
       "      <th>1442385</th>\n",
       "      <td>[[yert527, 14]]</td>\n",
       "      <td>[[TropicParadox, 3]]</td>\n",
       "      <td>-0.405465</td>\n",
       "      <td>0.744036</td>\n",
       "      <td>0.666667</td>\n",
       "    </tr>\n",
       "    <tr>\n",
       "      <th>1457146</th>\n",
       "      <td>[[DOODLE808, 26]]</td>\n",
       "      <td>[[MadWaffles, 149]]</td>\n",
       "      <td>-2.766150</td>\n",
       "      <td>0.720275</td>\n",
       "      <td>0.062904</td>\n",
       "    </tr>\n",
       "    <tr>\n",
       "      <th>1504984</th>\n",
       "      <td>[[esainane, 67]]</td>\n",
       "      <td>[[goldenzone, 16]]</td>\n",
       "      <td>-0.134296</td>\n",
       "      <td>0.761590</td>\n",
       "      <td>0.874331</td>\n",
       "    </tr>\n",
       "    <tr>\n",
       "      <th>1537559</th>\n",
       "      <td>[[Faceless, 1]]</td>\n",
       "      <td>[[pumpkinpee, 1]]</td>\n",
       "      <td>-0.921831</td>\n",
       "      <td>0.872179</td>\n",
       "      <td>0.397790</td>\n",
       "    </tr>\n",
       "    <tr>\n",
       "      <th>1544098</th>\n",
       "      <td>[[kema, 32]]</td>\n",
       "      <td>[[vslickerjet, 94]]</td>\n",
       "      <td>-1.006227</td>\n",
       "      <td>0.724000</td>\n",
       "      <td>0.365596</td>\n",
       "    </tr>\n",
       "    <tr>\n",
       "      <th>1623563</th>\n",
       "      <td>[[KingPoppa, 2], [haznitz, 5], [Civ, 1]]</td>\n",
       "      <td>[[Salamander69, 5], [glayer, 4], [Ban_Russians...</td>\n",
       "      <td>-1.091490</td>\n",
       "      <td>0.712387</td>\n",
       "      <td>0.335716</td>\n",
       "    </tr>\n",
       "    <tr>\n",
       "      <th>1627231</th>\n",
       "      <td>[[Kaira, 3], [misterau, 23]]</td>\n",
       "      <td>[[Skel, 96], [freez3, 1]]</td>\n",
       "      <td>-0.308745</td>\n",
       "      <td>0.703509</td>\n",
       "      <td>0.734368</td>\n",
       "    </tr>\n",
       "  </tbody>\n",
       "</table>\n",
       "</div>"
      ],
      "text/plain": [
       "                                                  w  \\\n",
       "battle_id                                             \n",
       "943959                                   [[Qaa, 3]]   \n",
       "952525                    [[SentinelComanche, 144]]   \n",
       "964378                         [[katastrophe, 286]]   \n",
       "967752                            [[flipmedays, 4]]   \n",
       "1197373                                [[dings, 6]]   \n",
       "1359271                             [[Notung, 252]]   \n",
       "1368683                               [[Nor1kz, 1]]   \n",
       "1384762                          [[hungdonkey, 19]]   \n",
       "1397812               [[juanisafinehumanbeing, 22]]   \n",
       "1398498                          [[[Kf3in]C21, 32]]   \n",
       "1401778                           [[Mudosaka, 184]]   \n",
       "1403587                            [[123vtemp, 87]]   \n",
       "1438619                           [[PRO_Dregs, 49]]   \n",
       "1442385                             [[yert527, 14]]   \n",
       "1457146                           [[DOODLE808, 26]]   \n",
       "1504984                            [[esainane, 67]]   \n",
       "1537559                             [[Faceless, 1]]   \n",
       "1544098                                [[kema, 32]]   \n",
       "1623563    [[KingPoppa, 2], [haznitz, 5], [Civ, 1]]   \n",
       "1627231                [[Kaira, 3], [misterau, 23]]   \n",
       "\n",
       "                                                           l     loo_i  \\\n",
       "battle_id                                                                \n",
       "943959                                     [[RealZener1, 1]] -1.500005   \n",
       "952525                                         [[sMaxMd, 1]] -0.126953   \n",
       "964378                                        [[venom69, 6]] -1.064082   \n",
       "967752                                     [[MatthewGB, 42]] -2.110805   \n",
       "1197373                                      [[MrSiara, 55]] -1.084915   \n",
       "1359271                                     [[WitherInc, 1]] -0.017332   \n",
       "1368683                                          [[kslv, 1]] -0.655623   \n",
       "1384762                                        [[Zeich, 16]] -1.470663   \n",
       "1397812                                   [[TopGoodGame, 3]] -0.342300   \n",
       "1398498              [[[Unnamed player with ID 522105], 22]] -1.195342   \n",
       "1401778                                      [[Mr_Ephir, 1]] -0.055974   \n",
       "1403587                                     [[wengjia75, 2]] -0.313779   \n",
       "1438619                                  [[xXDatBoi69Xx, 4]] -0.001373   \n",
       "1442385                                 [[TropicParadox, 3]] -0.405465   \n",
       "1457146                                  [[MadWaffles, 149]] -2.766150   \n",
       "1504984                                   [[goldenzone, 16]] -0.134296   \n",
       "1537559                                    [[pumpkinpee, 1]] -0.921831   \n",
       "1544098                                  [[vslickerjet, 94]] -1.006227   \n",
       "1623563    [[Salamander69, 5], [glayer, 4], [Ban_Russians... -1.091490   \n",
       "1627231                            [[Skel, 96], [freez3, 1]] -0.308745   \n",
       "\n",
       "           pareto_k         p  \n",
       "battle_id                      \n",
       "943959     0.793394  0.223129  \n",
       "952525     0.780867  0.880775  \n",
       "964378     0.731339  0.345044  \n",
       "967752     0.777886  0.121140  \n",
       "1197373    0.890028  0.337930  \n",
       "1359271    0.748502  0.982817  \n",
       "1368683    0.705639  0.519118  \n",
       "1384762    0.819023  0.229773  \n",
       "1397812    0.733323  0.710135  \n",
       "1398498    0.825581  0.302600  \n",
       "1401778    0.704620  0.945564  \n",
       "1403587    0.815563  0.730681  \n",
       "1438619    0.847728  0.998628  \n",
       "1442385    0.744036  0.666667  \n",
       "1457146    0.720275  0.062904  \n",
       "1504984    0.761590  0.874331  \n",
       "1537559    0.872179  0.397790  \n",
       "1544098    0.724000  0.365596  \n",
       "1623563    0.712387  0.335716  \n",
       "1627231    0.703509  0.734368  "
      ]
     },
     "execution_count": 88,
     "metadata": {},
     "output_type": "execute_result"
    }
   ],
   "source": [
    "loo_df = pd.DataFrame(dict( \\\n",
    "   loo_i = loo.loo_i, # array of pointwise predictive accuracy, only if pointwise True\n",
    "   pareto_k = loo.pareto_k\n",
    "), index=da.games.index).assign(p = lambda df:  np.exp(df.loo_i))\n",
    "\n",
    "loo_df[loo_df.pareto_k >= 0.7].join(da.gamePlayers).join(da.players, on='player').groupby('battle_id').apply(lambda g: pd.Series(dict(w = g[g.won][['name','playerDayCount']].to_numpy(), l = g[~g.won][['name','playerDayCount']].to_numpy()))).join(loo_df)"
   ]
  },
  {
   "cell_type": "markdown",
   "metadata": {},
   "source": [
    "1-day player with rating x\n",
    "\n",
    "1/(1+exp(-x)) * 1/(1+exp(x))\n",
    "= 1/(1+exp(x)+exp(-x)+1)\n",
    "= 1/(2+exp(x)+exp(-x))\n",
    "\n",
    "P(y wins vs x) = \\int 1/(1+exp(y-x)) 1/(2+exp(x)+exp(-x)) dx"
   ]
  },
  {
   "cell_type": "code",
   "execution_count": 96,
   "metadata": {},
   "outputs": [
    {
     "data": {
      "text/plain": [
       "73858"
      ]
     },
     "execution_count": 96,
     "metadata": {},
     "output_type": "execute_result"
    }
   ],
   "source": [
    "len(da.playerDays)"
   ]
  },
  {
   "cell_type": "code",
   "execution_count": 25,
   "metadata": {},
   "outputs": [
    {
     "name": "stderr",
     "output_type": "stream",
     "text": [
      "/home/daniel/dev/WHR/env/lib/python3.9/site-packages/arviz/stats/stats.py:803: UserWarning:\n",
      "\n",
      "Estimated shape parameter of Pareto distribution is greater than 0.7 for one or more samples. You should consider using a more robust model, this is because importance sampling is less likely to work well if the marginal posterior and LOO posterior are very different. This is more likely to happen with a non-robust model and highly influential observations.\n",
      "\n",
      "/home/daniel/dev/WHR/env/lib/python3.9/site-packages/arviz/stats/stats.py:803: UserWarning:\n",
      "\n",
      "Estimated shape parameter of Pareto distribution is greater than 0.7 for one or more samples. You should consider using a more robust model, this is because importance sampling is less likely to work well if the marginal posterior and LOO posterior are very different. This is more likely to happen with a non-robust model and highly influential observations.\n",
      "\n",
      "/home/daniel/dev/WHR/env/lib/python3.9/site-packages/arviz/stats/stats.py:803: UserWarning:\n",
      "\n",
      "Estimated shape parameter of Pareto distribution is greater than 0.7 for one or more samples. You should consider using a more robust model, this is because importance sampling is less likely to work well if the marginal posterior and LOO posterior are very different. This is more likely to happen with a non-robust model and highly influential observations.\n",
      "\n"
     ]
    },
    {
     "data": {
      "text/html": [
       "<div>\n",
       "<style scoped>\n",
       "    .dataframe tbody tr th:only-of-type {\n",
       "        vertical-align: middle;\n",
       "    }\n",
       "\n",
       "    .dataframe tbody tr th {\n",
       "        vertical-align: top;\n",
       "    }\n",
       "\n",
       "    .dataframe thead th {\n",
       "        text-align: right;\n",
       "    }\n",
       "</style>\n",
       "<table border=\"1\" class=\"dataframe\">\n",
       "  <thead>\n",
       "    <tr style=\"text-align: right;\">\n",
       "      <th></th>\n",
       "      <th>rank</th>\n",
       "      <th>elpd_loo</th>\n",
       "      <th>p_loo</th>\n",
       "      <th>elpd_diff</th>\n",
       "      <th>weight</th>\n",
       "      <th>se</th>\n",
       "      <th>dse</th>\n",
       "      <th>warning</th>\n",
       "      <th>scale</th>\n",
       "    </tr>\n",
       "  </thead>\n",
       "  <tbody>\n",
       "    <tr>\n",
       "      <th>bpstAdjModel</th>\n",
       "      <td>0</td>\n",
       "      <td>-14662.093146</td>\n",
       "      <td>2116.534525</td>\n",
       "      <td>0.000000</td>\n",
       "      <td>0.673899</td>\n",
       "      <td>48.276185</td>\n",
       "      <td>0.000000</td>\n",
       "      <td>True</td>\n",
       "      <td>log</td>\n",
       "    </tr>\n",
       "    <tr>\n",
       "      <th>simpleAdjModel</th>\n",
       "      <td>1</td>\n",
       "      <td>-14667.054129</td>\n",
       "      <td>2118.937944</td>\n",
       "      <td>4.960982</td>\n",
       "      <td>0.175391</td>\n",
       "      <td>48.293260</td>\n",
       "      <td>6.328338</td>\n",
       "      <td>True</td>\n",
       "      <td>log</td>\n",
       "    </tr>\n",
       "    <tr>\n",
       "      <th>unadjModel</th>\n",
       "      <td>2</td>\n",
       "      <td>-14739.315606</td>\n",
       "      <td>2115.120891</td>\n",
       "      <td>77.222460</td>\n",
       "      <td>0.150711</td>\n",
       "      <td>46.646162</td>\n",
       "      <td>15.958799</td>\n",
       "      <td>True</td>\n",
       "      <td>log</td>\n",
       "    </tr>\n",
       "  </tbody>\n",
       "</table>\n",
       "</div>"
      ],
      "text/plain": [
       "                rank      elpd_loo        p_loo  elpd_diff    weight  \\\n",
       "bpstAdjModel       0 -14662.093146  2116.534525   0.000000  0.673899   \n",
       "simpleAdjModel     1 -14667.054129  2118.937944   4.960982  0.175391   \n",
       "unadjModel         2 -14739.315606  2115.120891  77.222460  0.150711   \n",
       "\n",
       "                       se        dse  warning scale  \n",
       "bpstAdjModel    48.276185   0.000000     True   log  \n",
       "simpleAdjModel  48.293260   6.328338     True   log  \n",
       "unadjModel      46.646162  15.958799     True   log  "
      ]
     },
     "execution_count": 25,
     "metadata": {},
     "output_type": "execute_result"
    }
   ],
   "source": [
    "# compareDict = dict(unadjModel=unadjModel.idata, simpleAdjModel=simpleAdjModel.idata, bpstAdjModel=bpstAdjModel.idata)\n",
    "cmp = az.compare({k : m.idata for k, m in compareModels.items()}, ic='loo', var_name='Game outcomes')\n",
    "cmp"
   ]
  },
  {
   "cell_type": "code",
   "execution_count": 26,
   "metadata": {},
   "outputs": [
    {
     "name": "stdout",
     "output_type": "stream",
     "text": [
      "Log score of always guessing 50%: -0.6931\n"
     ]
    },
    {
     "data": {
      "text/plain": [
       "bpstAdjModel     -0.661946\n",
       "simpleAdjModel   -0.662169\n",
       "unadjModel       -0.665432\n",
       "Name: elpd_loo, dtype: float64"
      ]
     },
     "execution_count": 26,
     "metadata": {},
     "output_type": "execute_result"
    }
   ],
   "source": [
    "print(f'Log score of always guessing 50%: {math.log(0.5):.4f}')\n",
    "cmp.elpd_loo / len(simpleAdjModel.idata.observed_data['Game outcomes'])"
   ]
  },
  {
   "cell_type": "code",
   "execution_count": 97,
   "metadata": {},
   "outputs": [
    {
     "data": {
      "text/plain": [
       "<AxesSubplot: title={'center': 'Model comparison\\nhigher is better'}, xlabel='elpd_loo (log)', ylabel='ranked models'>"
      ]
     },
     "execution_count": 97,
     "metadata": {},
     "output_type": "execute_result"
    },
    {
     "data": {
      "image/png": "[encoded data removed]",
      "text/plain": [
       "<Figure size 600x300 with 1 Axes>"
      ]
     },
     "metadata": {
      "image/png": {
       "height": 311,
       "width": 611
      }
     },
     "output_type": "display_data"
    }
   ],
   "source": [
    "az.plot_compare(cmp, insample_dev=False)"
   ]
  },
  {
   "cell_type": "code",
   "execution_count": null,
   "metadata": {},
   "outputs": [],
   "source": [
    "# idata.to_netcdf('even-games_cumsum-matrix-model-1-year.netcdf')\n",
    "# idata.to_netcdf('cumsum-matrix-model-1-year.netcdf')"
   ]
  },
  {
   "cell_type": "code",
   "execution_count": null,
   "metadata": {},
   "outputs": [],
   "source": [
    "# idata = az.InferenceData.from_netcdf('even-games_cumsum-matrix-model-1-year.netcdf')\n"
   ]
  },
  {
   "cell_type": "code",
   "execution_count": null,
   "metadata": {},
   "outputs": [],
   "source": [
    "from IPython.display import HTML\n",
    "\n",
    "perfStats = whr.loadPerfStats()\n",
    "perfStats = pd.concat([DataFrame({'msPerSample': 1000 * perfStats.sampling_time / (perfStats.chains * perfStats.draws)} ) , perfStats], axis=1)\n",
    "perfStats = perfStats[-50:]\n",
    "HTML(perfStats.to_html())"
   ]
  },
  {
   "cell_type": "markdown",
   "metadata": {},
   "source": [
    "^ PerfStats"
   ]
  },
  {
   "cell_type": "code",
   "execution_count": null,
   "metadata": {},
   "outputs": [],
   "source": [
    "import xarray as xa\n",
    "post = simpleAdjModel.idata.posterior\n",
    "az.summary(xa.Dataset({\n",
    "    'Extra player advantage [Elo]' : (whr.eloPerNaturalRating * post['epadc']), \n",
    "    # 'ratingClassCenter' : whr.naturalRatingToElo(post['ratingClassCenter']),\n",
    "    # 'ratingClassSharpness' : post['ratingClassSharpness' ],\n",
    "    'elo' : whr.naturalRatingToElo(post['ratings'])[:,:,100:110]\n",
    "    }))"
   ]
  },
  {
   "cell_type": "code",
   "execution_count": null,
   "metadata": {},
   "outputs": [],
   "source": [
    "post = bpstAdjModel.idata.posterior\n",
    "az.summary(xa.Dataset({\n",
    "    'Extra player advantage [Elo]' : (whr.eloPerNaturalRating * post['epadc']), \n",
    "    # 'ratingClassCenter' : whr.naturalRatingToElo(post['ratingClassCenter']),\n",
    "    # 'ratingClassSharpness' : post['ratingClassSharpness' ],\n",
    "    'elo' : whr.naturalRatingToElo(post['ratings'])[:,:,100:110]\n",
    "    }))"
   ]
  },
  {
   "cell_type": "code",
   "execution_count": null,
   "metadata": {},
   "outputs": [],
   "source": [
    "import xarray as xa\n",
    "prior : xa.DataArray = pm.sample_prior_predictive(samples=8000//len(whr.advantageClasses), model=bpstAdjModel.model, var_names=['epadc']).prior.epadc\n",
    "# prior = prior.stack(stacked=('draw','advc')).rename(draw='draw0').rename(stacked='draw').drop()\n",
    "# prior = prior.rename(chain='z').rename(advc='chain')\n",
    "\n",
    "az.plot_posterior(eloPerNaturalRating * prior, combine_dims={ 'chain','draw','advc','ratingclass' })"
   ]
  },
  {
   "cell_type": "code",
   "execution_count": null,
   "metadata": {},
   "outputs": [],
   "source": [
    "import scipy.special\n",
    "\n",
    "sampleElos = [1000,1500,2000,2500]\n",
    "\n",
    "\n",
    "elos = np.linspace(0, 3500, 500)\n",
    "plt.plot(elos, whr.models_shared.eloHighness(bpstAdjModel.idata, elos))\n",
    "plt.xlabel('Elo')\n",
    "plt.ylabel('Rating highness')\n",
    "\n",
    "plotData = xa.Dataset({\n",
    "    f'{advc} advantage [in Elo] - BPST = {elo} Elo (rh = {t:.2f})' : whr.eloPerNaturalRating * \n",
    "        ((1-t) * post['epadc'].sel(advc = advc, ratingclass=whr.ratingclassCoords[0], drop=True) \\\n",
    "            + \\\n",
    "         t     * post['epadc'].sel(advc = advc, ratingclass=whr.ratingclassCoords[1], drop=True)\n",
    "        ) \n",
    "    for elo in sampleElos\n",
    "    for t in [whr.models_shared.ratingHighness(bpstAdjModel.idata, elo)]\n",
    "    for advc in whr.advantageClasses\n",
    "    } \n",
    "    # | {\n",
    "    # 'Prior (same for each)' : whr.eloPerNaturalRating * prior,\n",
    "    # 'ratingClassCenter' : whr.naturalRatingToElo(post['ratingClassCenter']),\n",
    "    # 'ratingClassSharpness' : post['ratingClassSharpness' ],\n",
    "    # }\n",
    "    )\n",
    "\n",
    "az.plot_posterior(plotData, combine_dims={'chain','chain2','draw','draw2','advc2','rc2'}, hdi_prob=0.95, ref_val=0, grid=(len(plotData)//6+1,6))\n",
    "\n",
    "# for x in [0.05,0.25,0.75,0.95]:\n",
    "#     plotData[f'Elo at which a player is {100*x}% in the high rating class'] = \\\n",
    "#         whr.naturalRatingToElo(scipy.special.logit(x)/post['ratingClassSharpness' ] + post['ratingClassCenter'])\n",
    "# plotData\n"
   ]
  },
  {
   "cell_type": "code",
   "execution_count": null,
   "metadata": {},
   "outputs": [],
   "source": []
  },
  {
   "cell_type": "code",
   "execution_count": null,
   "metadata": {},
   "outputs": [],
   "source": [
    "x = pt.matrix(dtype='float32')\n",
    "pt0.function([x], [whr.smoothMaximum(x, axis=1, a=100)])(np.array([[0,0.05]], dtype='float32'))"
   ]
  },
  {
   "cell_type": "code",
   "execution_count": null,
   "metadata": {},
   "outputs": [],
   "source": [
    "# pday = ()\n",
    "# pday = (505371, np.datetime64('2023-04-30'))\n",
    "models = [unadjModel,simpleAdjModel, bpstAdjModel]\n",
    "modelLabels = ['unadj','simp','bpst' ]\n",
    "whr.comparePlayerDay(models, 505371, np.datetime64('2023-04-30'), modelLabels)\n",
    "\n",
    "\n",
    "PlayersWhoOftenPlayInUnevenGames = da.getPlayersWhoOftenPlayInUnevenGames(minTotal=10)\n",
    "\n",
    "n=20\n",
    "fig = plt.figure(figsize=(14,n))\n",
    "prevAx = None\n",
    "\n",
    "for i, pid in enumerate(PlayersWhoOftenPlayInUnevenGames.index[-n:]):\n",
    "    ax = fig.add_subplot((n+1)//2,2,i+1, sharex=prevAx, sharey=prevAx)\n",
    "\n",
    "    whr.comparePlayerDay(models, pid, -1, modelLabels, ax=ax)\n",
    "\n",
    "    p = PlayersWhoOftenPlayInUnevenGames.loc[pid]\n",
    "    ax.set_title(f'{p.nSmall}/{p.nTotal}', loc='left')\n",
    "    prevAx=ax\n",
    "\n",
    "# whr.comparePlayerDay(models, 522755, np.datetime64('2023-04-30'), modelLabels)\n",
    "# whr.comparePlayerDay(models, 447183, np.datetime64('2023-04-13'), modelLabels)"
   ]
  },
  {
   "cell_type": "code",
   "execution_count": null,
   "metadata": {},
   "outputs": [],
   "source": [
    "battleIds = post.coords['unevenGame(sts=2)']\n",
    "highness : xa.DataArray = post['highRatingness(sts=2)']\n",
    "bpr = post['smallerTeamBestPlayerRatings(sts=2)']\n",
    "\n",
    "n = 12\n",
    "\n",
    "def getSample(x):\n",
    "    # return x.mean(['chain','draw'])\n",
    "    return x[0,0]\n",
    "\n",
    "\n",
    "ug = da.gamePlayers.join(\\\n",
    "        da.games.loc[battleIds[:n]].assign(\n",
    "            highness = getSample(highness)[:n],\n",
    "            bpr = getSample(bpr)[:n],\n",
    "            bpelo = lambda df: whr.naturalRatingToElo(df.bpr),\n",
    "            ), \\\n",
    "        how='right', on='battle_id', rsuffix='game_', validate='m:1') \\\n",
    "    .join(da.players, on='player', validate='m:1') \\\n",
    "    .set_index('won',append=True) \\\n",
    "    .swaplevel(2,1) \\\n",
    "    .sort_index() \\\n",
    "    .assign(rix = lambda df: df.join(simpleAdjModel.ratingIxLookup.to_frame('ix'), on=['player','day']).ix) \\\n",
    "    .assign(nrat = lambda df: getSample(post['ratings'][:,:,df.rix])) \\\n",
    "    .assign(elo = lambda df: whr.naturalRatingToElo(df.nrat)) \\\n",
    "    # .assign(elo = lambda df: model.ratingIxLookup[df.reset_index().set_index(['player','day']).index.to_numpy()]) \\\n",
    "ug[['day','name', 'highness', 'bpr',  'nrat', 'bpelo', 'elo']].assign(bpelomelo = lambda df: df.bpelo - df.elo)"
   ]
  },
  {
   "cell_type": "code",
   "execution_count": null,
   "metadata": {},
   "outputs": [],
   "source": [
    "az.plot_posterior(whr.naturalRatingToElo(idata.posterior['ratings']), combine_dims={'chain','draw','playerDay'}, ref_val=1500)"
   ]
  },
  {
   "cell_type": "code",
   "execution_count": null,
   "metadata": {},
   "outputs": [],
   "source": []
  },
  {
   "cell_type": "code",
   "execution_count": null,
   "metadata": {},
   "outputs": [],
   "source": [
    "import IPython\n",
    "\n",
    "mapRatings = mapRatings.join(da.players.name, how='left', on='player').droplevel('player').set_index('name', append=True) \\\n",
    "\n",
    "mapRatings['elo'] = whr.naturalRatingToElo(mapRatings.rating)\n",
    "\n",
    "mapEloOut = mapRatings.elo.groupby('name').agg(['mean','median','first','max','min','last']).round(0)\n",
    "mapEloOut['range'] = mapEloOut['max'] - mapEloOut['min']\n",
    "# # IPython.display.HTML(eloOut.to_html())\n",
    "regulars = da.players[da.players.playerDayCount > 15]\n",
    "\n",
    "# IPython.display.HTML(mapEloOut.loc[regulars.name].sort_values('mean').to_html())\n",
    "IPython.display.HTML(mapEloOut.sort_values('last',ascending=False)[:30].reset_index().to_html())"
   ]
  },
  {
   "cell_type": "code",
   "execution_count": null,
   "metadata": {},
   "outputs": [],
   "source": [
    "import xarray as xa\n",
    "ratingSamples : xa.DataArray = idata.posterior['ratings']\n",
    "\n",
    "def plotPlayer(name, color, ax=None):\n",
    "    testPlayerId = da.players[da.players.name==name].index[0]\n",
    "    testPlayerIxs = simpleAdjModel.ratingIxLookup.loc[testPlayerId]\n",
    "    testPlayerRatings = ratingSamples.isel(playerDay = testPlayerIxs)\n",
    "\n",
    "    return az.plot_hdi(testPlayerIxs.index, whr.naturalRatingToElo(testPlayerRatings), smooth=False, ax=ax, color=color, fill_kwargs={'alpha': 0.1},\n",
    "        plot_kwargs={'alpha':1}, hdi_prob=0.9)\n",
    "\n",
    "ax = plotPlayer('Sab', 'red')\n",
    "ax = plotPlayer('Kosynthary', 'green', ax)\n",
    "ax = plotPlayer('mushroomraider', 'blue', ax)\n",
    "ax = plotPlayer('Yeye77', 'yellow', ax)"
   ]
  },
  {
   "cell_type": "code",
   "execution_count": null,
   "metadata": {},
   "outputs": [],
   "source": [
    "import xarray as xa\n",
    "\n",
    "\n",
    "\n"
   ]
  },
  {
   "cell_type": "code",
   "execution_count": null,
   "metadata": {},
   "outputs": [],
   "source": [
    "# da.playerDays.groupby(level='player').apply(lambda g: g.iloc[[0,-1]])\n",
    "postRatings = unadjModel.ratingsByPlayerDay()\n",
    "ratingIxLookup = unadjModel.ratingIxLookup\n",
    "gb = ratingIxLookup.groupby(level='player')\n",
    "firstAndLastIx = gb.first().to_frame('firstIx').assign(lastIx = gb.last())\n",
    "# firstAndLastIx"
   ]
  },
  {
   "cell_type": "code",
   "execution_count": null,
   "metadata": {},
   "outputs": [],
   "source": [
    "firstLastRat = postRatings.isel(playerDay = firstAndLastIx.unstack()).assign_coords(\n",
    "    fl = ('playerDay', np.fromiter(iter.chain(iter.repeat('first', len(firstAndLastIx)), iter.repeat('last', len(firstAndLastIx))),\n",
    "                                    dtype=\"<U5\", count=2*len(firstAndLastIx) ))\n",
    ").drop_indexes(['playerDay','player','day']).set_xindex(['player','fl'])\n",
    "\n",
    "hdi_prob = 0.95\n",
    "ratingsHdiX : xa.Dataset = az.hdi(firstLastRat, hdi_prob=hdi_prob)\n",
    "ratingsMeanX = firstLastRat.mean(dim=['chain','draw'])"
   ]
  },
  {
   "cell_type": "code",
   "execution_count": null,
   "metadata": {},
   "outputs": [],
   "source": [
    "ratingStats : DataFrame = xa.concat([\n",
    "    ratingsHdiX['ratings'].rename(hdi='stat'),\n",
    "    ratingsMeanX.expand_dims(stat=['mean'], axis=-1)], dim='stat') \\\n",
    "    .to_dataframe(dim_order = ('stat','playerDay')) \\\n",
    "    .drop(columns = ['player', 'fl']).rename(columns = {'ratings':'rating'})\n",
    "\n",
    "# ratingsHdi = ratingsHdi\n",
    "ratingStats['Elo'] = whr.naturalRatingToElo(ratingStats.rating)\n",
    "\n",
    "ratingStats = ratingStats.unstack(['fl','stat'])\n",
    "\n",
    "# Remove date and name duplication for each stat\n",
    "ratingStats = ratingStats.transpose().drop_duplicates().transpose().sort_index(axis=1).reorder_levels([1,0,2],1)\n",
    "\n",
    "# ratingStats.columns = ratingStats.columns.to_flat_index()\n",
    "# ratingStats.columns\n",
    "\n",
    "# ratingStats = ratingStats.unstack('stat').assign(date = ratingsMeanX.coords['day'])\n",
    "\n",
    "# ratingStats = ratingStats.unstack('fl').assign(name = ratingsMeanX.coords['name'] )\n",
    "\n",
    "# grp = ratingStats.groupby(['player', 'fl'])\n",
    "# assert (grp.day.min() == grp.day.max()).all()\n",
    "# # assert (grp.name.min() == grp.name.max()).all()\n",
    "\n",
    "# ratingStats = pd.concat([\n",
    "#     DataFrame({\n",
    "#         ('date',''): ratingStats.day.loc['mean'],\n",
    "#     }),\n",
    "#     ratingStats.drop(columns=['day']).unstack('stat')\n",
    "#     ], axis=1)\n",
    "\n",
    "# ratingStats = ratingStats.unstack('fl').reorder_levels([2,0,1], 1).sort_index(axis=1, ascending=[True,False,False]) \\\n",
    "#                 .rename(columns = {\n",
    "#                     'lower':f'{100*hdi_prob:.0f}% HDI lower',\n",
    "#                     'higher':f'{100*hdi_prob:.0f}% HDI upper'\n",
    "#                 })\n",
    "\n",
    "# ratingStats"
   ]
  },
  {
   "cell_type": "code",
   "execution_count": null,
   "metadata": {},
   "outputs": [],
   "source": [
    "ratingStats.drop('rating', axis=1,level=1).sort_values(by=('last','Elo','mean'), ascending=False).set_index(('first','name','lower'), append=True).round(1)[:60]\n"
   ]
  },
  {
   "cell_type": "code",
   "execution_count": null,
   "metadata": {},
   "outputs": [],
   "source": [
    "n = 50\n",
    "az.plot_forest(\n",
    "    firstLastRat.sel(playerDay = ratingsMeanX.sortby(ratingsMeanX, ascending=False)[:n].get_index('playerDay') ) \\\n",
    "        .set_index(playerDay = ('name', 'fl')).pipe(whr.naturalRatingToElo)\n",
    "    \n",
    "    ,\n",
    "    combined=True)"
   ]
  },
  {
   "cell_type": "code",
   "execution_count": null,
   "metadata": {},
   "outputs": [],
   "source": [
    "import IPython\n",
    "postStats : DataFrame = postRatings.mean(dim=[\"chain\", \"draw\"]).to_dataframe().drop(columns='player')\n",
    "postMedians = postRatings.median(dim=[\"chain\", \"draw\"])\n",
    "\n",
    "postStats.index = unadjModel.ratingIxLookup.sort_values().index\n",
    "postStats = postStats.set_index('name', append=True)\n",
    "\n",
    "postStats = postStats.assign(mean_elo = whr.naturalRatingToElo(postStats.ratings),\n",
    "                                 median_elo = whr.naturalRatingToElo(postMedians))\n",
    "\n",
    "eloOut = postStats.mean_elo.groupby('name').agg(['mean','median','first','max','min','last']).round(0)\n",
    "eloOut['range'] = eloOut['max'] - eloOut['min']\n",
    "# IPython.display.HTML(eloOut.to_html())\n",
    "regulars = da.players[da.players.playerDayCount > 9]\n",
    "\n",
    "IPython.display.HTML(eloOut.sort_values('last',ascending=False)[:30].reset_index().to_html())"
   ]
  },
  {
   "cell_type": "code",
   "execution_count": null,
   "metadata": {},
   "outputs": [],
   "source": [
    "comparison = DataFrame({\n",
    "    'post_mean' : postStats.mean_elo, \n",
    "    'post_median' : postStats.median_elo, \n",
    "    'MAP' : mapRatings.elo}).sort_values('MAP', ascending=False)\n",
    "\n",
    "comparison.reset_index().drop_duplicates('name').round(0)[:100]"
   ]
  },
  {
   "cell_type": "code",
   "execution_count": null,
   "metadata": {},
   "outputs": [],
   "source": [
    "import matplotlib as mpl\n",
    "import matplotlib.axes as mpla\n",
    "import matplotlib.pyplot as plt\n",
    "import matplotlib.ticker as plticker\n",
    "\n",
    "axs = az.plot_forest(idata, var_names = '[Rr]ating', filter_vars=\"regex\", combined=True)\n",
    "\n",
    "ax : mpla.Axes =  axs[0]\n",
    "ax.minorticks_on()\n",
    "ax.xaxis.set_major_locator(plticker.MultipleLocator(base=5.0))\n",
    "ax.xaxis.set_minor_locator(plticker.MultipleLocator(base=1.0))\n",
    "ax.xaxis.set_tick_params(which='both', top=True, labeltop=True, bottom=True, labelbottom=True)\n",
    "# ax.xaxis.set_tick_params(which='minor', grid_color='black', grid_linewidth=1, grid_alpha=1, grid_linestyle='-')\n",
    "ax.xaxis.grid(True, which='major', color='black')\n",
    "ax.xaxis.grid(True, which='minor')\n",
    "\n",
    "\n",
    "\n",
    "\n",
    "\n",
    "# profileStats = basic_model.profile(basic_model.dlogp())\n",
    "# profileStats.summary()\n",
    "# fn = basic_model.compile_logp()\n",
    "# pass\n",
    "# az.plot_pair(idata, var_names = 'rating', filter_vars=\"like\", kind='kde')"
   ]
  },
  {
   "cell_type": "code",
   "execution_count": null,
   "metadata": {},
   "outputs": [],
   "source": [
    "pm.model_to_graphviz(simpleAdjModel.model)"
   ]
  },
  {
   "cell_type": "code",
   "execution_count": null,
   "metadata": {},
   "outputs": [],
   "source": [
    "with simpleAdjModel.model:\n",
    "    pm.compute_log_likelihood(idata, extend_inferencedata=False)\n",
    "\n",
    "az.waic(idata)"
   ]
  },
  {
   "cell_type": "code",
   "execution_count": null,
   "metadata": {},
   "outputs": [],
   "source": [
    "from IPython.display import SVG\n",
    "from pytensor.printing import pydotprint\n",
    "\n",
    "# postrw = idata.posterior[\"RW\"]\n",
    "# idata\n",
    "# d3v.d3viz(basic_model.compile_logp().f, '/tmp/d3v.html')\n",
    "\n",
    "# pydotprint(basic_model.compile_dlogp().f, format='svg')\n",
    "\n",
    "# SVG(pt0.printing.pydotprint(basic_model.logp(), return_image=True, format='svg'))\n",
    "\n",
    "pt0.dprint(basic_model.compile_logp().f, print_storage=True, print_view_map=False);\n",
    "\n",
    "#az.plot_forest(idata)\n",
    "# print(pt0.pp(basic_model.logp()))"
   ]
  },
  {
   "cell_type": "code",
   "execution_count": null,
   "metadata": {},
   "outputs": [],
   "source": [
    "import xarray as xa\n",
    "# az.plot_trace(idata, combined=True); #, coords={\"RW_dim_0\":range(1,5)});\n",
    "postRatings : xa.DataArray = idata.posterior['ratings']\n",
    "postRatings"
   ]
  }
 ],
 "metadata": {
  "kernelspec": {
   "display_name": "Python 3.9.2 ('env': venv)",
   "language": "python",
   "name": "python3"
  },
  "language_info": {
   "codemirror_mode": {
    "name": "ipython",
    "version": 3
   },
   "file_extension": ".py",
   "mimetype": "text/x-python",
   "name": "python",
   "nbconvert_exporter": "python",
   "pygments_lexer": "ipython3",
   "version": "3.9.2"
  },
  "orig_nbformat": 4,
  "vscode": {
   "interpreter": {
    "hash": "de99da730c82b3eba29058665eb1cbb2dcbc3a522e835c958b9ffc74046f614e"
   }
  }
 },
 "nbformat": 4,
 "nbformat_minor": 2
}
