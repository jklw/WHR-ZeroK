{
 "cells": [
  {
   "cell_type": "code",
   "execution_count": 1,
   "metadata": {},
   "outputs": [],
   "source": [
    "import arviz as az\n",
    "import pandas as pd\n",
    "from pandas import Series, DataFrame\n",
    "import matplotlib.pyplot as plt\n",
    "import numpy as np\n",
    "import scipy.sparse as scs\n",
    "import itertools as iter\n",
    "from IPython.display import display\n",
    "from pytensor.printing import pydotprint\n",
    "\n",
    "\n",
    "%config InlineBackend.figure_format = 'retina'\n",
    "# Initialize random number generator\n",
    "RANDOM_SEED = 8927\n",
    "rng = np.random.default_rng(RANDOM_SEED)\n",
    "az.style.use(\"arviz-darkgrid\")\n",
    "\n",
    "import whr\n",
    "\n",
    "%load_ext autoreload\n",
    "%autoreload explicit\n",
    "%aimport whr\n",
    "\n",
    "%load_ext pyinstrument"
   ]
  },
  {
   "cell_type": "code",
   "execution_count": 2,
   "metadata": {},
   "outputs": [
    {
     "name": "stdout",
     "output_type": "stream",
     "text": [
      "Elo = natural rating * 173.7 + 1500\n"
     ]
    }
   ],
   "source": [
    "print('Elo = natural rating * %.1f + 1500' % whr.eloPerNaturalRating)"
   ]
  },
  {
   "cell_type": "code",
   "execution_count": 3,
   "metadata": {},
   "outputs": [
    {
     "name": "stdout",
     "output_type": "stream",
     "text": [
      "using cached data from cache/games.pickle\n",
      "using cached data from cache/playerNames.pickle\n",
      "using cached data from cache/playerDays.pickle\n"
     ]
    }
   ],
   "source": [
    "da = whr.PreprocessedData.load()\n",
    "\n",
    "# print('-1 in first row for each player in varFrom* columns is expected.')\n",
    "# da.playerDays"
   ]
  },
  {
   "cell_type": "code",
   "execution_count": 4,
   "metadata": {},
   "outputs": [],
   "source": [
    "import pymc as pm\n",
    "import pytensor.tensor as pt\n",
    "import pytensor as pt0\n",
    "import pytensor.sparse as pts\n",
    "import pytensor.d3viz as d3v\n",
    "import math\n",
    "\n",
    "whr.setup_pytensor()\n",
    "\n",
    "separateVirtualGames = False\n"
   ]
  },
  {
   "cell_type": "code",
   "execution_count": 5,
   "metadata": {},
   "outputs": [],
   "source": [
    "pdc = len(da.playerDays)\n",
    "\n",
    "da.players['playerIx'] = range(len(da.players))\n",
    "\n",
    "da.playerDays['origIx'] = Series(range(pdc), index=da.playerDays.index)\n",
    "da.playerDays['playerIx'] = da.players.playerIx[da.playerDays.index.get_level_values('player')].array\n",
    "\n"
   ]
  },
  {
   "cell_type": "code",
   "execution_count": 6,
   "metadata": {},
   "outputs": [],
   "source": [
    "da.playerDays['prevOrigIx'] = da.playerDays.origIx.groupby(['player']).transform(lambda g: np.concatenate([[-1], g[:-1].array]))\n",
    "\n",
    "isNonFirstDay = Series((da.playerDays.prevOrigIx != -1).astype(np.int8), name='isNonFirstDay')\n",
    "reordPlayerDays = da.playerDays.set_index([isNonFirstDay, da.playerDays.index]).sort_index()\n",
    "reordPlayerDays['reordIx'] = range(len(reordPlayerDays))\n",
    "da.playerDays['reordIx'] = reordPlayerDays.reordIx.droplevel('isNonFirstDay')\n",
    "reordPlayerDays['prevReordIx'] = -1\n",
    "reordPlayerDays.loc[1, 'prevReordIx'] = da.playerDays.reordIx.iloc[reordPlayerDays.prevOrigIx.loc[1]].array\n",
    "\n",
    "\n",
    "# da.playerDays[6:]\n",
    "firstDays = reordPlayerDays.loc[0]\n",
    "nonFirstDays = reordPlayerDays.loc[1]\n",
    "\n",
    "assert (firstDays.prevReordIx == -1).all()\n",
    "assert (reordPlayerDays.origIx.iloc[nonFirstDays.prevReordIx].array == nonFirstDays.prevOrigIx).all()\n",
    "\n",
    "ratingIxLookup = da.playerDays.reordIx\n",
    "\n"
   ]
  },
  {
   "cell_type": "code",
   "execution_count": 7,
   "metadata": {},
   "outputs": [],
   "source": [
    "assert (firstDays.playerIx.array == range(len(da.players))).all()"
   ]
  },
  {
   "cell_type": "code",
   "execution_count": 8,
   "metadata": {},
   "outputs": [
    {
     "data": {
      "text/latex": [
       "$$\n",
       "            \\begin{array}{rcl}\n",
       "            \\text{playerOffsets} &\\sim & \\operatorname{Flat}()\\\\\\text{xratings} &\\sim & \\operatorname{Flat}()\\\\\\text{ratings} &\\sim & \\operatorname{Deterministic}(f(\\text{playerOffsets},~\\text{xratings}))\\\\\\text{ratingsPotential} &\\sim & \\operatorname{Potential}(f(\\text{playerOffsets},~\\text{xratings}))\\\\\\text{Game outcomes} &\\sim & \\operatorname{Potential}(f(\\text{playerOffsets},~\\text{xratings}))\n",
       "            \\end{array}\n",
       "            $$"
      ],
      "text/plain": [
       "<pymc.model.Model at 0x7f81b6c40a60>"
      ]
     },
     "execution_count": 8,
     "metadata": {},
     "output_type": "execute_result"
    }
   ],
   "source": [
    "# %%pyinstrument\n",
    "import scipy.sparse as sps\n",
    "\n",
    "\n",
    "\n",
    "\n",
    "coords = {\n",
    "        \"player\": da.players.name, \n",
    "        # \"playerDay\": playerDays.index.map(lambda t: \"%s, %s\" % (players.name.at[t[1]], t[2])),\n",
    "        \"reordPlayerDay\": reordPlayerDays.index.map(lambda t: \"%s, %s\" % (da.players.name.at[t[1]], t[2])),\n",
    "        \"nonFirstDay\": nonFirstDays.index.map(lambda t: \"%s, %s\" % (da.players.name.at[t[0]], t[1])),\n",
    "        \"game\": da.games.index\n",
    "}\n",
    "\n",
    "# coords['playerDayExLast'] = coords['playerDay'][:-1]\n",
    "\n",
    "gameCountReal = len(da.games)\n",
    "gameCountEff = gameCountReal  + (0 if separateVirtualGames else 2 * len(da.players))\n",
    "\n",
    "basic_model = pm.Model(coords=coords, check_bounds=False)\n",
    "\n",
    "nfdc = len(nonFirstDays)\n",
    "\n",
    "with basic_model:\n",
    "    # rw = pm.GaussianRandomWalk('RW', sigma = 1, steps = 4, init_dist = pm.Normal.dist(0, 0.001))\n",
    "    playerDayRatingSDevs = pm.ConstantData('playerDayRatingSDevs ', nonFirstDays.sdev , dims=(\"nonFirstDay\",))\n",
    "\n",
    "    useDiffMatrix = False\n",
    "\n",
    "    # if useDiffMatrix:\n",
    "    #     diffMatrix = sps.coo_matrix(\n",
    "    #         (   np.concatenate([np.ones(nfdc, np.int8), np.full(nfdc, -1, np.int8)]),\n",
    "    #             ( np.concatenate([np.arange(nfdc) for _ in range(2)]),\n",
    "    #             np.concatenate([nonFirstDays.ix, nonFirstDays.prevIx])\n",
    "    #             )\n",
    "    #         )\n",
    "    #         , shape=(nfdc, pdc)\n",
    "    #     ).tocsr()\n",
    "        \n",
    "    #     diffM = pts.constant(diffMatrix, 'diffM')\n",
    "\n",
    "    # def ratings_logp(ratings1 : pt.TensorVariable, sdevs : pt.TensorConstant):\n",
    "    #     # print(f'In ratings_logp, shapes: {ratings1.shape}; {sdevs.shape}')\n",
    "    #     if useDiffMatrix:\n",
    "    #         diffs = pts.structured_dot(diffM, ratings1.reshape((pdc,1))).reshape((nfdc,))\n",
    "    #     else:\n",
    "    #         diffs = ratings1[nonFirstDays.ix] - ratings1[nonFirstDays.prevIx]\n",
    "    #     return pm.Normal.logp(diffs, mu = 0, sigma = sdevs)\n",
    "\n",
    "    # ratings = pm.CustomDist('ratings', playerDayRatingSDevs, \n",
    "    #     logp=ratings_logp,\n",
    "    #     moment=lambda rv, size, sdevs: pt.full((pdc,), 0),\n",
    "    #     # ndims_params=[1],\n",
    "    #     # ndim_supp=1,\n",
    "    #     dtype='floatX',\n",
    "    #     dims=\"playerDay\",\n",
    "    #     # shape=(pdc,),\n",
    "    #     size=(pdc,))\n",
    "\n",
    "    # globalOffset = pm.Flat('globalOffset', dims=(), dtype='floatX')\n",
    "\n",
    "    playerOffsets = pm.Flat('playerOffsets', dims=('player'), dtype='floatX')\n",
    "    # playerOffsets = pm.Normal('playerOffsets', sigma=firstDays.sdev, dims=('player'))\n",
    "    xratings = pm.Flat('xratings', dims=\"nonFirstDay\", dtype='floatX')\n",
    "\n",
    "    import pymc.math as pmm\n",
    "    ratings = pm.Deterministic('ratings', pt.join(0, playerOffsets, xratings + playerOffsets[nonFirstDays.playerIx])  , dims=\"reordPlayerDay\")\n",
    "\n",
    "    # if useDiffMatrix:\n",
    "    #     diffs = pts.structured_dot(diffM, ratings.reshape((pdc,1))).reshape((nfdc,))\n",
    "    diffs = ratings[nonFirstDays.reordIx] - ratings[nonFirstDays.prevReordIx]\n",
    "    \n",
    "    pm.Potential('ratingsPotential', pm.Normal.logp(diffs, mu = 0, sigma = playerDayRatingSDevs))\n",
    "\n",
    "    ratingsToGameLogitsMatrix, firstDayIndices = whr.createRatingsToGameLogitsMatrix(\n",
    "        da,\n",
    "        ratingIxLookup = ratingIxLookup,\n",
    "        ratingCount = pdc,\n",
    "        dtype = pt0.config.floatX,\n",
    "        selfCheck = True, separateVirtualGames=separateVirtualGames)\n",
    "\n",
    "    ratingsToGameLogits = pts.constant(ratingsToGameLogitsMatrix, name='ratingsToGameLogits')\n",
    "\n",
    "    ratingsColVector = ratings.reshape((pdc,1))\n",
    "    gameLogits = pts.structured_dot(ratingsToGameLogits, ratingsColVector).reshape((gameCountEff,))\n",
    "\n",
    "    useOutcomesPotential = True\n",
    "    whr.makeOutcomes(da, ratings, gameLogits, firstDayIndices, usePotential=useOutcomesPotential)\n",
    "\n",
    "\n",
    "\n",
    "\n",
    "basic_model"
   ]
  },
  {
   "cell_type": "code",
   "execution_count": 9,
   "metadata": {},
   "outputs": [],
   "source": [
    "# (playerDayRatingSDevs.dtype, innovations.dtype, ratings.dtype, ratingsToGameLogits.dtype, gameLogits.dtype, outcomes.dtype)\n",
    "# virtWins.dtype"
   ]
  },
  {
   "cell_type": "code",
   "execution_count": 10,
   "metadata": {},
   "outputs": [],
   "source": [
    "# For perf stat logging\n",
    "modelDescription = {\n",
    "    'games' : len(da.games),\n",
    "    'realDays' : pdc,\n",
    "    'paddingDays' : 0,\n",
    "    'players' : len(da.players),\n",
    "    'isCustomDiffModel' : 'playerOffsets(flat)+xratings(flat)',\n",
    "    'usesDiffMatrix' : useDiffMatrix,\n",
    "    'virtualGameOutcomeCount' : 2 * len(da.players),\n",
    "    'ratingsToGameLogitsMatrix.count_nonzero' : ratingsToGameLogitsMatrix.count_nonzero(),\n",
    "    'ratingsToGameLogitsMatrix.type' : repr(ratingsToGameLogits),\n",
    "    'floatX' : pt0.config.floatX,\n",
    "    'separateVirtualGames ' : separateVirtualGames,\n",
    "    'ptconfig.openmp' : pt0.config.openmp,\n",
    "    'useOutcomesPotential' : useOutcomesPotential,\n",
    "}\n",
    "\n",
    "# modelDescription\n"
   ]
  },
  {
   "cell_type": "code",
   "execution_count": null,
   "metadata": {},
   "outputs": [],
   "source": [
    "# basic_model.debug(fn='logp')\n",
    "modelDescription"
   ]
  },
  {
   "cell_type": "code",
   "execution_count": null,
   "metadata": {},
   "outputs": [],
   "source": [
    "idata = whr.sample(basic_model, modelDescription, da, ratingIxLookup)"
   ]
  },
  {
   "cell_type": "code",
   "execution_count": null,
   "metadata": {},
   "outputs": [],
   "source": [
    "from IPython.display import HTML\n",
    "\n",
    "perfStats = whr.loadPerfStats()\n",
    "perfStats = pd.concat([DataFrame({'msPerSample': 1000 * perfStats.sampling_time / (perfStats.chains * perfStats.draws)} ) , perfStats], axis=1)\n",
    "perfStats = perfStats[perfStats.draws==1000]\n",
    "HTML(perfStats.to_html())"
   ]
  },
  {
   "cell_type": "markdown",
   "metadata": {},
   "source": [
    "^ PerfStats"
   ]
  },
  {
   "cell_type": "code",
   "execution_count": null,
   "metadata": {},
   "outputs": [],
   "source": [
    "map1 = pm.find_MAP(model=basic_model, return_raw=False)"
   ]
  },
  {
   "cell_type": "code",
   "execution_count": null,
   "metadata": {},
   "outputs": [],
   "source": [
    "import IPython\n",
    "\n",
    "mapRatings = DataFrame({'rating':map1['ratings']}, index=ratingIxLookup.sort_values().index)\n",
    "\n",
    "mapRatings = mapRatings.join(da.players.name, how='left', on='player').droplevel('player').set_index('name', append=True) \\\n",
    "\n",
    "mapRatings['elo'] = whr.naturalRatingToElo(mapRatings.rating)\n",
    "\n",
    "mapEloOut = mapRatings.elo.groupby('name').agg(['mean','median','first','max','min','last']).round(0)\n",
    "mapEloOut['range'] = mapEloOut['max'] - mapEloOut['min']\n",
    "# # IPython.display.HTML(eloOut.to_html())\n",
    "regulars = da.players[da.players.playerDayCount > 15]\n",
    "\n",
    "# IPython.display.HTML(mapEloOut.loc[regulars.name].sort_values('mean').to_html())\n",
    "IPython.display.HTML(mapEloOut.sort_values('last',ascending=False)[:100].reset_index().to_html())"
   ]
  },
  {
   "cell_type": "code",
   "execution_count": null,
   "metadata": {},
   "outputs": [],
   "source": [
    "az.plot_pair(idata, var_names=['offset','xrat'], filter_vars='like')"
   ]
  },
  {
   "cell_type": "code",
   "execution_count": null,
   "metadata": {},
   "outputs": [],
   "source": [
    "az.summary(idata, round_to=2)"
   ]
  },
  {
   "cell_type": "code",
   "execution_count": 12,
   "metadata": {},
   "outputs": [
    {
     "name": "stderr",
     "output_type": "stream",
     "text": [
      "Function profiling\n",
      "==================\n",
      "  Message: /home/daniel/.local/lib/python3.9/site-packages/pymc/pytensorf.py:1149\n",
      "  Time in 1000 calls to Function.__call__: 7.248891e-01s\n",
      "  Time in Function.vm.__call__: 0.7094097712542862s (97.865%)\n",
      "  Time in thunks: 0.700767993927002s (96.672%)\n",
      "  Total compilation time: 1.489656e-01s\n",
      "    Number of Apply nodes: 30\n",
      "    PyTensor rewrite time: 1.375946e-01s\n",
      "       PyTensor validate time: 2.309383e-03s\n",
      "    PyTensor Linker time (includes C, CUDA code generation/compiling): 0.008687845896929502s\n",
      "       Import time 0.000000e+00s\n",
      "       Node make_thunk time 8.100402e-03s\n",
      "           Node Elemwise{Composite}(AdvancedSubtensor1.0, AdvancedSubtensor1.0, playerDayRatingSDevs {[0.5064791...14769752]}, TensorConstant{(1,) of -0.5}, TensorConstant{(1,) of 0...5175704956}, TensorConstant{[-0.680272...9125888 ]}) time 6.148231e-04s\n",
      "           Node InplaceDimShuffle{0,x}(ratings) time 6.008139e-04s\n",
      "           Node InplaceDimShuffle{0,x}(Elemwise{Composite}.0) time 5.937142e-04s\n",
      "           Node AdvancedIncSubtensor1{inplace,inc}(Reshape{1}.0, Elemwise{Composite}.1, TensorConstant{[ 2893  28..112 13113]}) time 3.711300e-04s\n",
      "           Node AdvancedIncSubtensor1{inplace,inc}(SpecifyShape.0, Elemwise{Composite}.0, TensorConstant{[   0    1..2884 2886]}) time 3.677099e-04s\n",
      "\n",
      "Time in all call to pytensor.grad() 8.854571e-02s\n",
      "Time since pytensor import 30.437s\n",
      "Class\n",
      "---\n",
      "<% time> <sum %> <apply time> <time per call> <type> <#call> <#apply> <Class name>\n",
      "  31.9%    31.9%       0.224s       7.46e-05s     C     3000       3   pytensor.tensor.subtensor.AdvancedIncSubtensor1\n",
      "  25.0%    56.9%       0.175s       8.76e-05s     Py    2000       2   pytensor.sparse.basic.StructuredDot\n",
      "  22.6%    79.5%       0.158s       3.16e-05s     C     5000       5   pytensor.tensor.elemwise.Elemwise\n",
      "  15.8%    95.3%       0.111s       3.69e-05s     C     3000       3   pytensor.tensor.subtensor.AdvancedSubtensor1\n",
      "   2.7%    98.0%       0.019s       6.26e-06s     C     3000       3   pytensor.tensor.math.Sum\n",
      "   0.6%    98.6%       0.004s       2.23e-06s     C     2000       2   pytensor.tensor.basic.Join\n",
      "   0.5%    99.1%       0.004s       1.80e-06s     C     2000       2   pytensor.tensor.elemwise.DimShuffle\n",
      "   0.4%    99.6%       0.003s       1.55e-06s     C     2000       2   pytensor.tensor.shape.Reshape\n",
      "   0.3%    99.9%       0.002s       2.27e-06s     C     1000       1   pytensor.tensor.basic.Split\n",
      "   0.1%   100.0%       0.001s       8.75e-08s     C     6000       6   pytensor.tensor.shape.SpecifyShape\n",
      "   0.0%   100.0%       0.000s       2.06e-07s     C     1000       1   pytensor.tensor.basic.MakeVector\n",
      "   ... (remaining 0 Classes account for   0.00%(0.00s) of the runtime)\n",
      "\n",
      "Ops\n",
      "---\n",
      "<% time> <sum %> <apply time> <time per call> <type> <#call> <#apply> <Op name>\n",
      "  31.9%    31.9%       0.224s       7.46e-05s     C     3000        3   AdvancedIncSubtensor1{inplace,inc}\n",
      "  25.0%    56.9%       0.175s       8.76e-05s     Py    2000        2   StructuredDot\n",
      "  15.8%    72.7%       0.111s       3.69e-05s     C     3000        3   AdvancedSubtensor1\n",
      "  12.7%    85.4%       0.089s       8.88e-05s     C     1000        1   Elemwise{Composite}\n",
      "   5.0%    90.4%       0.035s       3.53e-05s     C     1000        1   Elemwise{Sigmoid}[(0, 0)]\n",
      "   4.2%    94.6%       0.029s       2.95e-05s     C     1000        1   Elemwise{Composite}\n",
      "   2.7%    97.3%       0.019s       6.26e-06s     C     3000        3   Sum{acc_dtype=float64}\n",
      "   0.6%    98.0%       0.005s       4.51e-06s     C     1000        1   Elemwise{add,no_inplace}\n",
      "   0.6%    98.6%       0.004s       2.23e-06s     C     2000        2   Join\n",
      "   0.5%    99.1%       0.004s       1.80e-06s     C     2000        2   InplaceDimShuffle{0,x}\n",
      "   0.4%    99.6%       0.003s       1.55e-06s     C     2000        2   Reshape{1}\n",
      "   0.3%    99.9%       0.002s       2.27e-06s     C     1000        1   Split{2}\n",
      "   0.1%   100.0%       0.001s       8.75e-08s     C     6000        6   SpecifyShape\n",
      "   0.0%   100.0%       0.000s       2.06e-07s     C     1000        1   MakeVector{dtype='float32'}\n",
      "   0.0%   100.0%       0.000s       7.51e-08s     C     1000        1   Elemwise{Neg}[(0, 0)]\n",
      "   ... (remaining 0 Ops account for   0.00%(0.00s) of the runtime)\n",
      "\n",
      "Apply\n",
      "------\n",
      "<% time> <sum %> <apply time> <time per call> <#call> <id> <Apply name>\n",
      "  12.8%    12.8%       0.090s       8.99e-05s   1000    15   StructuredDot(SparseConstant{csc,float32,shape=(13114, 13053),nnz=52227}, Elemwise{Sigmoid}[(0, 0)].0)\n",
      "  12.7%    25.5%       0.089s       8.88e-05s   1000    10   Elemwise{Composite}(Reshape{1}.0)\n",
      "  12.2%    37.7%       0.085s       8.53e-05s   1000     6   StructuredDot(SparseConstant{csr,float32,shape=(13053, 13114),nnz=52227}, InplaceDimShuffle{0,x}.0)\n",
      "  11.2%    48.8%       0.078s       7.82e-05s   1000    22   AdvancedIncSubtensor1{inplace,inc}(SpecifyShape.0, Elemwise{Composite}.0, TensorConstant{[   0    1..2884 2886]})\n",
      "  10.4%    59.3%       0.073s       7.31e-05s   1000    19   AdvancedIncSubtensor1{inplace,inc}(Reshape{1}.0, Elemwise{Composite}.1, TensorConstant{[ 2893  28..112 13113]})\n",
      "  10.3%    69.6%       0.072s       7.25e-05s   1000    27   AdvancedIncSubtensor1{inplace,inc}(SpecifyShape.0, (d__logp/dxratings), TensorConstant{[   0    1..2884 2886]})\n",
      "   5.3%    74.9%       0.037s       3.73e-05s   1000     0   AdvancedSubtensor1(playerOffsets, TensorConstant{[   0    1..2884 2886]})\n",
      "   5.3%    80.2%       0.037s       3.68e-05s   1000     5   AdvancedSubtensor1(ratings, TensorConstant{[ 2893  28..112 13113]})\n",
      "   5.2%    85.4%       0.037s       3.66e-05s   1000     4   AdvancedSubtensor1(ratings, TensorConstant{[   0    1..2884 2886]})\n",
      "   5.0%    90.4%       0.035s       3.53e-05s   1000    13   Elemwise{Sigmoid}[(0, 0)](InplaceDimShuffle{0,x}.0)\n",
      "   4.2%    94.6%       0.029s       2.95e-05s   1000     7   Elemwise{Composite}(AdvancedSubtensor1.0, AdvancedSubtensor1.0, playerDayRatingSDevs {[0.5064791...14769752]}, TensorConstant{(1,) of -0.5}, TensorConstant{(1,) of 0...5175704956}, TensorConstant{[-0.680272...9125888 ]})\n",
      "   1.4%    96.1%       0.010s       1.01e-05s   1000    12   Sum{acc_dtype=float64}(Elemwise{Composite}.1)\n",
      "   1.2%    97.3%       0.008s       8.26e-06s   1000     9   Sum{acc_dtype=float64}(ratingsPotential)\n",
      "   0.6%    97.9%       0.005s       4.51e-06s   1000     1   Elemwise{add,no_inplace}(xratings, AdvancedSubtensor1.0)\n",
      "   0.3%    98.2%       0.002s       2.31e-06s   1000    29   Join(TensorConstant{0}, (d__logp/dplayerOffsets), (d__logp/dxratings))\n",
      "   0.3%    98.6%       0.002s       2.27e-06s   1000    25   Split{2}((d__logp/dratings), TensorConstant{0}, TensorConstant{[ 2893 10221]})\n",
      "   0.3%    98.9%       0.002s       2.23e-06s   1000     3   InplaceDimShuffle{0,x}(ratings)\n",
      "   0.3%    99.2%       0.002s       2.15e-06s   1000     2   Join(TensorConstant{0}, playerOffsets, Elemwise{add,no_inplace}.0)\n",
      "   0.2%    99.4%       0.002s       1.60e-06s   1000     8   Reshape{1}(StructuredDot.0, TensorConstant{(1,) of 13053})\n",
      "   0.2%    99.6%       0.002s       1.51e-06s   1000    17   Reshape{1}(StructuredDot.0, TensorConstant{(1,) of 13114})\n",
      "   ... (remaining 10 Apply instances account for 0.37%(0.00s) of the runtime)\n",
      "\n",
      "Here are tips to potentially make your code run faster\n",
      "                 (if you think of new ones, suggest them on the mailing list).\n",
      "                 Test them first, as they are not guaranteed to always provide a speedup.\n",
      "  - Try installing amdlibm and set the PyTensor flag lib__amblibm=True. This speeds up only some Elemwise operation.\n"
     ]
    }
   ],
   "source": [
    "profileStats = basic_model.profile([basic_model.logp(),basic_model.dlogp()])\n",
    "profileStats.summary()"
   ]
  },
  {
   "cell_type": "code",
   "execution_count": null,
   "metadata": {},
   "outputs": [],
   "source": [
    "import IPython\n",
    "postRatings : DataFrame = idata.posterior['ratings'].mean(dim=[\"chain\", \"draw\"]).to_dataframe()\n",
    "medians = idata.posterior['ratings'].median(dim=[\"chain\", \"draw\"])\n",
    "\n",
    "postRatings.index = reordPlayerDays.index.droplevel('isNonFirstDay')\n",
    "postRatings = postRatings.join(da.players.name, how='left', on='player').droplevel('player').set_index('name', append=True)\n",
    "\n",
    "postRatings = postRatings.assign(mean_elo = whr.naturalRatingToElo(postRatings.ratings),\n",
    "                                 median_elo = whr.naturalRatingToElo(medians))\n",
    "\n",
    "eloOut = postRatings.mean_elo.groupby('name').agg(['mean','first','last','min','max']).round(0)\n",
    "eloOut['range'] = eloOut['max'] - eloOut['min']\n",
    "# IPython.display.HTML(eloOut.to_html())\n",
    "regulars = da.players[da.players.playerDayCount > 9]\n",
    "\n",
    "IPython.display.HTML(eloOut.loc[regulars.name].sort_values('mean').to_html())"
   ]
  },
  {
   "cell_type": "code",
   "execution_count": null,
   "metadata": {},
   "outputs": [],
   "source": [
    "\n"
   ]
  },
  {
   "cell_type": "code",
   "execution_count": null,
   "metadata": {},
   "outputs": [],
   "source": []
  },
  {
   "cell_type": "markdown",
   "metadata": {},
   "source": [
    "tick_params:\n",
    "        grid_color : color\n",
    "            Gridline color.\n",
    "        grid_alpha : float\n",
    "            Transparency of gridlines: 0 (transparent) to 1 (opaque).\n",
    "        grid_linewidth : float\n",
    "            Width of gridlines in points.\n",
    "        grid_linestyle : str\n",
    "            Any valid `.Line2D` line style spec."
   ]
  },
  {
   "cell_type": "code",
   "execution_count": null,
   "metadata": {},
   "outputs": [],
   "source": [
    "import matplotlib as mpl\n",
    "import matplotlib.axes as mpla\n",
    "import matplotlib.pyplot as plt\n",
    "import matplotlib.ticker as plticker\n",
    "\n",
    "axs = az.plot_forest(idata, var_names = '[Rr]ating', filter_vars=\"regex\", combined=True)\n",
    "\n",
    "ax : mpla.Axes =  axs[0]\n",
    "ax.minorticks_on()\n",
    "ax.xaxis.set_major_locator(plticker.MultipleLocator(base=5.0))\n",
    "ax.xaxis.set_minor_locator(plticker.MultipleLocator(base=1.0))\n",
    "ax.xaxis.set_tick_params(which='both', top=True, labeltop=True, bottom=True, labelbottom=True)\n",
    "# ax.xaxis.set_tick_params(which='minor', grid_color='black', grid_linewidth=1, grid_alpha=1, grid_linestyle='-')\n",
    "ax.xaxis.grid(True, which='major', color='black')\n",
    "ax.xaxis.grid(True, which='minor')\n",
    "\n",
    "\n",
    "\n",
    "\n",
    "\n",
    "# profileStats = basic_model.profile(basic_model.dlogp())\n",
    "# profileStats.summary()\n",
    "# fn = basic_model.compile_logp()\n",
    "# pass\n",
    "# az.plot_pair(idata, var_names = 'rating', filter_vars=\"like\", kind='kde')"
   ]
  },
  {
   "cell_type": "code",
   "execution_count": null,
   "metadata": {},
   "outputs": [],
   "source": [
    "pm.model_to_graphviz(basic_model)"
   ]
  },
  {
   "cell_type": "code",
   "execution_count": null,
   "metadata": {},
   "outputs": [],
   "source": [
    "az.waic(idata)"
   ]
  },
  {
   "cell_type": "code",
   "execution_count": null,
   "metadata": {},
   "outputs": [],
   "source": [
    "from IPython.display import SVG\n",
    "from pytensor.printing import pydotprint\n",
    "\n",
    "# postrw = idata.posterior[\"RW\"]\n",
    "# idata\n",
    "# d3v.d3viz(basic_model.compile_logp().f, '/tmp/d3v.html')\n",
    "\n",
    "# pydotprint(basic_model.compile_dlogp().f, format='svg')\n",
    "\n",
    "# SVG(pt0.printing.pydotprint(basic_model.logp(), return_image=True, format='svg'))\n",
    "\n",
    "pt0.dprint(basic_model.compile_logp().f, print_storage=True, print_view_map=False);\n",
    "\n",
    "#az.plot_forest(idata)\n",
    "# print(pt0.pp(basic_model.logp()))"
   ]
  },
  {
   "cell_type": "code",
   "execution_count": null,
   "metadata": {},
   "outputs": [],
   "source": [
    "import xarray as xa\n",
    "# az.plot_trace(idata, combined=True); #, coords={\"RW_dim_0\":range(1,5)});\n",
    "postRatings : xa.DataArray = idata.posterior['ratings']\n",
    "postRatings"
   ]
  },
  {
   "cell_type": "code",
   "execution_count": null,
   "metadata": {},
   "outputs": [],
   "source": [
    "idata.posterior[\"alpha\"].sel(draw=slice(0, 4))"
   ]
  },
  {
   "cell_type": "code",
   "execution_count": null,
   "metadata": {},
   "outputs": [],
   "source": []
  },
  {
   "cell_type": "code",
   "execution_count": null,
   "metadata": {},
   "outputs": [],
   "source": []
  },
  {
   "cell_type": "code",
   "execution_count": null,
   "metadata": {},
   "outputs": [],
   "source": []
  }
 ],
 "metadata": {
  "kernelspec": {
   "display_name": "Python 3.9.2 64-bit",
   "language": "python",
   "name": "python3"
  },
  "language_info": {
   "codemirror_mode": {
    "name": "ipython",
    "version": 3
   },
   "file_extension": ".py",
   "mimetype": "text/x-python",
   "name": "python",
   "nbconvert_exporter": "python",
   "pygments_lexer": "ipython3",
   "version": "3.9.2"
  },
  "orig_nbformat": 4,
  "vscode": {
   "interpreter": {
    "hash": "767d51c1340bd893661ea55ea3124f6de3c7a262a8b4abca0554b478b1e2ff90"
   }
  }
 },
 "nbformat": 4,
 "nbformat_minor": 2
}
